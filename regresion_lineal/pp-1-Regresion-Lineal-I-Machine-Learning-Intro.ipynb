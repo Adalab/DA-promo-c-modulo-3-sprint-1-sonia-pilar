{
 "cells": [
  {
   "attachments": {},
   "cell_type": "markdown",
   "metadata": {},
   "source": [
    "# Ejercicios Pair Programming - Modulo 3 - Sprint 1 \n",
    "## Lección 1 - Intro a Machine Learning\n",
    "### Pilar García Murillo y Sonia Ruiz Pérez"
   ]
  },
  {
   "attachments": {},
   "cell_type": "markdown",
   "metadata": {},
   "source": [
    "Empezamos una nueva lección, y este es el momento de poner en práctica los conocimientos adquiridos sobre la Regresión Lineal Simple I. Para ello os vamos a pedir que por vuestra cuenta busqueis un dataset que os guste, por ejemplo de Kaggle o de donde queráis extraerlo. De forma que vamos a probar a realizar ajustes lineales con el fin de predecir alguna de sus variables. Este dataset será el que iremos usando a lo largo de todas las sesiones de pairprogramming de regresión lineal.\n",
    "\n",
    "***Se ruega a la hora de realizar la entrega que incluyais el conjunto de datos que hayais decidido emplear para estos ejercicios.***\n",
    "\n",
    "**Objetivos**\n",
    "\n",
    "Los objetivos de hoy son:\n",
    "1. Buscar un conjunto de datos a analizar:\n",
    "    - Es necesario que el conjunto de datos a analizar tenga variables numéricas y categóricas, primando que haya más de una variable de tipo numérico. Ya que tambien se utilizarán serán útiles a la hora de realizar predicciones en las clases de regresión lineal múltiple. Así mismo se recomienda que los datasets esten ligeramente limpios para facilitar los análisis."
   ]
  },
  {
   "cell_type": "code",
   "execution_count": 2,
   "metadata": {},
   "outputs": [],
   "source": [
    "import pandas as pd\n",
    "import numpy as np\n",
    "import seaborn as sns\n",
    "pd.options.display.max_columns=None"
   ]
  },
  {
   "cell_type": "code",
   "execution_count": 19,
   "metadata": {},
   "outputs": [
    {
     "data": {
      "text/plain": [
       "['anagrams',\n",
       " 'anscombe',\n",
       " 'attention',\n",
       " 'brain_networks',\n",
       " 'car_crashes',\n",
       " 'diamonds',\n",
       " 'dots',\n",
       " 'dowjones',\n",
       " 'exercise',\n",
       " 'flights',\n",
       " 'fmri',\n",
       " 'geyser',\n",
       " 'glue',\n",
       " 'healthexp',\n",
       " 'iris',\n",
       " 'mpg',\n",
       " 'penguins',\n",
       " 'planets',\n",
       " 'seaice',\n",
       " 'taxis',\n",
       " 'tips',\n",
       " 'titanic']"
      ]
     },
     "execution_count": 19,
     "metadata": {},
     "output_type": "execute_result"
    }
   ],
   "source": [
    "sns.get_dataset_names()"
   ]
  },
  {
   "cell_type": "code",
   "execution_count": 24,
   "metadata": {},
   "outputs": [],
   "source": [
    "df=sns.load_dataset('taxis')"
   ]
  },
  {
   "cell_type": "code",
   "execution_count": 26,
   "metadata": {},
   "outputs": [
    {
     "data": {
      "text/html": [
       "<div>\n",
       "<style scoped>\n",
       "    .dataframe tbody tr th:only-of-type {\n",
       "        vertical-align: middle;\n",
       "    }\n",
       "\n",
       "    .dataframe tbody tr th {\n",
       "        vertical-align: top;\n",
       "    }\n",
       "\n",
       "    .dataframe thead th {\n",
       "        text-align: right;\n",
       "    }\n",
       "</style>\n",
       "<table border=\"1\" class=\"dataframe\">\n",
       "  <thead>\n",
       "    <tr style=\"text-align: right;\">\n",
       "      <th></th>\n",
       "      <th>pickup</th>\n",
       "      <th>dropoff</th>\n",
       "      <th>passengers</th>\n",
       "      <th>distance</th>\n",
       "      <th>fare</th>\n",
       "      <th>tip</th>\n",
       "      <th>tolls</th>\n",
       "      <th>total</th>\n",
       "      <th>color</th>\n",
       "      <th>payment</th>\n",
       "      <th>pickup_zone</th>\n",
       "      <th>dropoff_zone</th>\n",
       "      <th>pickup_borough</th>\n",
       "      <th>dropoff_borough</th>\n",
       "    </tr>\n",
       "  </thead>\n",
       "  <tbody>\n",
       "    <tr>\n",
       "      <th>0</th>\n",
       "      <td>2019-03-23 20:21:09</td>\n",
       "      <td>2019-03-23 20:27:24</td>\n",
       "      <td>1</td>\n",
       "      <td>1.60</td>\n",
       "      <td>7.0</td>\n",
       "      <td>2.15</td>\n",
       "      <td>0.0</td>\n",
       "      <td>12.95</td>\n",
       "      <td>yellow</td>\n",
       "      <td>credit card</td>\n",
       "      <td>Lenox Hill West</td>\n",
       "      <td>UN/Turtle Bay South</td>\n",
       "      <td>Manhattan</td>\n",
       "      <td>Manhattan</td>\n",
       "    </tr>\n",
       "    <tr>\n",
       "      <th>1</th>\n",
       "      <td>2019-03-04 16:11:55</td>\n",
       "      <td>2019-03-04 16:19:00</td>\n",
       "      <td>1</td>\n",
       "      <td>0.79</td>\n",
       "      <td>5.0</td>\n",
       "      <td>0.00</td>\n",
       "      <td>0.0</td>\n",
       "      <td>9.30</td>\n",
       "      <td>yellow</td>\n",
       "      <td>cash</td>\n",
       "      <td>Upper West Side South</td>\n",
       "      <td>Upper West Side South</td>\n",
       "      <td>Manhattan</td>\n",
       "      <td>Manhattan</td>\n",
       "    </tr>\n",
       "    <tr>\n",
       "      <th>2</th>\n",
       "      <td>2019-03-27 17:53:01</td>\n",
       "      <td>2019-03-27 18:00:25</td>\n",
       "      <td>1</td>\n",
       "      <td>1.37</td>\n",
       "      <td>7.5</td>\n",
       "      <td>2.36</td>\n",
       "      <td>0.0</td>\n",
       "      <td>14.16</td>\n",
       "      <td>yellow</td>\n",
       "      <td>credit card</td>\n",
       "      <td>Alphabet City</td>\n",
       "      <td>West Village</td>\n",
       "      <td>Manhattan</td>\n",
       "      <td>Manhattan</td>\n",
       "    </tr>\n",
       "  </tbody>\n",
       "</table>\n",
       "</div>"
      ],
      "text/plain": [
       "                pickup              dropoff  passengers  distance  fare   tip  \\\n",
       "0  2019-03-23 20:21:09  2019-03-23 20:27:24           1      1.60   7.0  2.15   \n",
       "1  2019-03-04 16:11:55  2019-03-04 16:19:00           1      0.79   5.0  0.00   \n",
       "2  2019-03-27 17:53:01  2019-03-27 18:00:25           1      1.37   7.5  2.36   \n",
       "\n",
       "   tolls  total   color      payment            pickup_zone  \\\n",
       "0    0.0  12.95  yellow  credit card        Lenox Hill West   \n",
       "1    0.0   9.30  yellow         cash  Upper West Side South   \n",
       "2    0.0  14.16  yellow  credit card          Alphabet City   \n",
       "\n",
       "            dropoff_zone pickup_borough dropoff_borough  \n",
       "0    UN/Turtle Bay South      Manhattan       Manhattan  \n",
       "1  Upper West Side South      Manhattan       Manhattan  \n",
       "2           West Village      Manhattan       Manhattan  "
      ]
     },
     "execution_count": 26,
     "metadata": {},
     "output_type": "execute_result"
    }
   ],
   "source": [
    "df.head(3)"
   ]
  },
  {
   "attachments": {},
   "cell_type": "markdown",
   "metadata": {},
   "source": [
    "\n",
    "2. Explicar los datos y las variables disponibles en el conjunto de datos seleccionado:\n",
    "    - Esto se hace para que comprendais mejor los datos con los que estais trabajando.\n",
    "    - Realizar un EDA sencillo para la variable dependiente y la variable independiente."
   ]
  },
  {
   "cell_type": "code",
   "execution_count": 29,
   "metadata": {},
   "outputs": [
    {
     "data": {
      "text/plain": [
       "(2705, 14)"
      ]
     },
     "execution_count": 29,
     "metadata": {},
     "output_type": "execute_result"
    }
   ],
   "source": [
    "df.shape"
   ]
  },
  {
   "cell_type": "code",
   "execution_count": 30,
   "metadata": {},
   "outputs": [
    {
     "name": "stdout",
     "output_type": "stream",
     "text": [
      "<class 'pandas.core.frame.DataFrame'>\n",
      "RangeIndex: 2705 entries, 0 to 2704\n",
      "Data columns (total 14 columns):\n",
      " #   Column           Non-Null Count  Dtype  \n",
      "---  ------           --------------  -----  \n",
      " 0   pickup           2705 non-null   object \n",
      " 1   dropoff          2705 non-null   object \n",
      " 2   passengers       2705 non-null   int64  \n",
      " 3   distance         2705 non-null   float64\n",
      " 4   fare             2705 non-null   float64\n",
      " 5   tip              2705 non-null   float64\n",
      " 6   tolls            2705 non-null   float64\n",
      " 7   total            2705 non-null   float64\n",
      " 8   color            2705 non-null   object \n",
      " 9   payment          2685 non-null   object \n",
      " 10  pickup_zone      2696 non-null   object \n",
      " 11  dropoff_zone     2689 non-null   object \n",
      " 12  pickup_borough   2696 non-null   object \n",
      " 13  dropoff_borough  2689 non-null   object \n",
      "dtypes: float64(5), int64(1), object(8)\n",
      "memory usage: 296.0+ KB\n"
     ]
    }
   ],
   "source": [
    "df.info()"
   ]
  },
  {
   "cell_type": "code",
   "execution_count": 31,
   "metadata": {},
   "outputs": [
    {
     "data": {
      "text/html": [
       "<div>\n",
       "<style scoped>\n",
       "    .dataframe tbody tr th:only-of-type {\n",
       "        vertical-align: middle;\n",
       "    }\n",
       "\n",
       "    .dataframe tbody tr th {\n",
       "        vertical-align: top;\n",
       "    }\n",
       "\n",
       "    .dataframe thead th {\n",
       "        text-align: right;\n",
       "    }\n",
       "</style>\n",
       "<table border=\"1\" class=\"dataframe\">\n",
       "  <thead>\n",
       "    <tr style=\"text-align: right;\">\n",
       "      <th></th>\n",
       "      <th>count</th>\n",
       "      <th>mean</th>\n",
       "      <th>std</th>\n",
       "      <th>min</th>\n",
       "      <th>25%</th>\n",
       "      <th>50%</th>\n",
       "      <th>75%</th>\n",
       "      <th>max</th>\n",
       "    </tr>\n",
       "  </thead>\n",
       "  <tbody>\n",
       "    <tr>\n",
       "      <th>passengers</th>\n",
       "      <td>2705.0</td>\n",
       "      <td>1.585952</td>\n",
       "      <td>1.238597</td>\n",
       "      <td>0.0</td>\n",
       "      <td>1.00</td>\n",
       "      <td>1.00</td>\n",
       "      <td>2.00</td>\n",
       "      <td>6.00</td>\n",
       "    </tr>\n",
       "    <tr>\n",
       "      <th>distance</th>\n",
       "      <td>2705.0</td>\n",
       "      <td>2.909982</td>\n",
       "      <td>3.656269</td>\n",
       "      <td>0.0</td>\n",
       "      <td>0.98</td>\n",
       "      <td>1.60</td>\n",
       "      <td>3.04</td>\n",
       "      <td>30.23</td>\n",
       "    </tr>\n",
       "    <tr>\n",
       "      <th>fare</th>\n",
       "      <td>2705.0</td>\n",
       "      <td>12.726584</td>\n",
       "      <td>10.838620</td>\n",
       "      <td>1.0</td>\n",
       "      <td>6.50</td>\n",
       "      <td>9.00</td>\n",
       "      <td>14.50</td>\n",
       "      <td>130.00</td>\n",
       "    </tr>\n",
       "    <tr>\n",
       "      <th>tip</th>\n",
       "      <td>2705.0</td>\n",
       "      <td>2.202643</td>\n",
       "      <td>2.586182</td>\n",
       "      <td>0.0</td>\n",
       "      <td>0.00</td>\n",
       "      <td>1.95</td>\n",
       "      <td>2.96</td>\n",
       "      <td>33.20</td>\n",
       "    </tr>\n",
       "    <tr>\n",
       "      <th>tolls</th>\n",
       "      <td>2705.0</td>\n",
       "      <td>0.346950</td>\n",
       "      <td>1.432546</td>\n",
       "      <td>0.0</td>\n",
       "      <td>0.00</td>\n",
       "      <td>0.00</td>\n",
       "      <td>0.00</td>\n",
       "      <td>17.28</td>\n",
       "    </tr>\n",
       "    <tr>\n",
       "      <th>total</th>\n",
       "      <td>2705.0</td>\n",
       "      <td>18.725124</td>\n",
       "      <td>13.518748</td>\n",
       "      <td>1.3</td>\n",
       "      <td>11.30</td>\n",
       "      <td>14.30</td>\n",
       "      <td>20.16</td>\n",
       "      <td>166.00</td>\n",
       "    </tr>\n",
       "  </tbody>\n",
       "</table>\n",
       "</div>"
      ],
      "text/plain": [
       "             count       mean        std  min    25%    50%    75%     max\n",
       "passengers  2705.0   1.585952   1.238597  0.0   1.00   1.00   2.00    6.00\n",
       "distance    2705.0   2.909982   3.656269  0.0   0.98   1.60   3.04   30.23\n",
       "fare        2705.0  12.726584  10.838620  1.0   6.50   9.00  14.50  130.00\n",
       "tip         2705.0   2.202643   2.586182  0.0   0.00   1.95   2.96   33.20\n",
       "tolls       2705.0   0.346950   1.432546  0.0   0.00   0.00   0.00   17.28\n",
       "total       2705.0  18.725124  13.518748  1.3  11.30  14.30  20.16  166.00"
      ]
     },
     "execution_count": 31,
     "metadata": {},
     "output_type": "execute_result"
    }
   ],
   "source": [
    "df.describe().T"
   ]
  },
  {
   "cell_type": "code",
   "execution_count": 33,
   "metadata": {},
   "outputs": [
    {
     "data": {
      "text/html": [
       "<div>\n",
       "<style scoped>\n",
       "    .dataframe tbody tr th:only-of-type {\n",
       "        vertical-align: middle;\n",
       "    }\n",
       "\n",
       "    .dataframe tbody tr th {\n",
       "        vertical-align: top;\n",
       "    }\n",
       "\n",
       "    .dataframe thead th {\n",
       "        text-align: right;\n",
       "    }\n",
       "</style>\n",
       "<table border=\"1\" class=\"dataframe\">\n",
       "  <thead>\n",
       "    <tr style=\"text-align: right;\">\n",
       "      <th></th>\n",
       "      <th>count</th>\n",
       "      <th>unique</th>\n",
       "      <th>top</th>\n",
       "      <th>freq</th>\n",
       "    </tr>\n",
       "  </thead>\n",
       "  <tbody>\n",
       "    <tr>\n",
       "      <th>pickup</th>\n",
       "      <td>2705</td>\n",
       "      <td>2704</td>\n",
       "      <td>2019-03-17 12:10:05</td>\n",
       "      <td>2</td>\n",
       "    </tr>\n",
       "    <tr>\n",
       "      <th>dropoff</th>\n",
       "      <td>2705</td>\n",
       "      <td>2704</td>\n",
       "      <td>2019-03-26 17:39:56</td>\n",
       "      <td>2</td>\n",
       "    </tr>\n",
       "    <tr>\n",
       "      <th>color</th>\n",
       "      <td>2705</td>\n",
       "      <td>1</td>\n",
       "      <td>yellow</td>\n",
       "      <td>2705</td>\n",
       "    </tr>\n",
       "    <tr>\n",
       "      <th>payment</th>\n",
       "      <td>2685</td>\n",
       "      <td>2</td>\n",
       "      <td>credit card</td>\n",
       "      <td>1974</td>\n",
       "    </tr>\n",
       "    <tr>\n",
       "      <th>pickup_zone</th>\n",
       "      <td>2696</td>\n",
       "      <td>102</td>\n",
       "      <td>Midtown Center</td>\n",
       "      <td>125</td>\n",
       "    </tr>\n",
       "    <tr>\n",
       "      <th>dropoff_zone</th>\n",
       "      <td>2689</td>\n",
       "      <td>141</td>\n",
       "      <td>Upper East Side North</td>\n",
       "      <td>122</td>\n",
       "    </tr>\n",
       "    <tr>\n",
       "      <th>pickup_borough</th>\n",
       "      <td>2696</td>\n",
       "      <td>4</td>\n",
       "      <td>Manhattan</td>\n",
       "      <td>2454</td>\n",
       "    </tr>\n",
       "    <tr>\n",
       "      <th>dropoff_borough</th>\n",
       "      <td>2689</td>\n",
       "      <td>6</td>\n",
       "      <td>Manhattan</td>\n",
       "      <td>2404</td>\n",
       "    </tr>\n",
       "  </tbody>\n",
       "</table>\n",
       "</div>"
      ],
      "text/plain": [
       "                count unique                    top  freq\n",
       "pickup           2705   2704    2019-03-17 12:10:05     2\n",
       "dropoff          2705   2704    2019-03-26 17:39:56     2\n",
       "color            2705      1                 yellow  2705\n",
       "payment          2685      2            credit card  1974\n",
       "pickup_zone      2696    102         Midtown Center   125\n",
       "dropoff_zone     2689    141  Upper East Side North   122\n",
       "pickup_borough   2696      4              Manhattan  2454\n",
       "dropoff_borough  2689      6              Manhattan  2404"
      ]
     },
     "execution_count": 33,
     "metadata": {},
     "output_type": "execute_result"
    }
   ],
   "source": [
    "df.describe(include='object').T"
   ]
  },
  {
   "cell_type": "code",
   "execution_count": 28,
   "metadata": {},
   "outputs": [
    {
     "data": {
      "text/plain": [
       "pickup              0\n",
       "dropoff             0\n",
       "passengers          0\n",
       "distance            0\n",
       "fare                0\n",
       "tip                 0\n",
       "tolls               0\n",
       "total               0\n",
       "color               0\n",
       "payment            20\n",
       "pickup_zone         9\n",
       "dropoff_zone       16\n",
       "pickup_borough      9\n",
       "dropoff_borough    16\n",
       "dtype: int64"
      ]
     },
     "execution_count": 28,
     "metadata": {},
     "output_type": "execute_result"
    }
   ],
   "source": [
    "df.isnull().sum()"
   ]
  },
  {
   "cell_type": "code",
   "execution_count": 34,
   "metadata": {},
   "outputs": [
    {
     "data": {
      "text/plain": [
       "0"
      ]
     },
     "execution_count": 34,
     "metadata": {},
     "output_type": "execute_result"
    }
   ],
   "source": [
    "df.duplicated().sum()"
   ]
  },
  {
   "cell_type": "code",
   "execution_count": 43,
   "metadata": {},
   "outputs": [
    {
     "data": {
      "text/plain": [
       "Index(['pickup', 'dropoff', 'passengers', 'distance', 'fare', 'tip', 'tolls',\n",
       "       'total', 'color', 'payment', 'pickup_zone', 'dropoff_zone',\n",
       "       'pickup_borough', 'dropoff_borough'],\n",
       "      dtype='object')"
      ]
     },
     "execution_count": 43,
     "metadata": {},
     "output_type": "execute_result"
    }
   ],
   "source": [
    "df.columns"
   ]
  },
  {
   "cell_type": "code",
   "execution_count": 44,
   "metadata": {},
   "outputs": [
    {
     "data": {
      "text/plain": [
       "Midtown Center                      125\n",
       "Upper East Side South               103\n",
       "Penn Station/Madison Sq West         99\n",
       "Clinton East                         97\n",
       "Lincoln Square East                  93\n",
       "Midtown East                         91\n",
       "Times Sq/Theatre District            91\n",
       "Union Sq                             89\n",
       "Upper West Side South                86\n",
       "Murray Hill                          84\n",
       "Upper East Side North                82\n",
       "LaGuardia Airport                    77\n",
       "JFK Airport                          77\n",
       "East Village                         75\n",
       "Midtown North                        72\n",
       "Midtown South                        70\n",
       "East Chelsea                         69\n",
       "Lenox Hill West                      60\n",
       "Gramercy                             58\n",
       "West Village                         56\n",
       "Garment District                     55\n",
       "Sutton Place/Turtle Bay North        49\n",
       "Greenwich Village North              48\n",
       "Yorkville West                       48\n",
       "Lincoln Square West                  47\n",
       "Greenwich Village South              45\n",
       "Lenox Hill East                      44\n",
       "Flatiron                             43\n",
       "TriBeCa/Civic Center                 43\n",
       "West Chelsea/Hudson Yards            42\n",
       "Upper West Side North                42\n",
       "UN/Turtle Bay South                  36\n",
       "Yorkville East                       36\n",
       "Lower East Side                      36\n",
       "Central Park                         33\n",
       "Hudson Sq                            30\n",
       "Little Italy/NoLiTa                  27\n",
       "Kips Bay                             23\n",
       "Battery Park City                    22\n",
       "Meatpacking/West Village West        21\n",
       "SoHo                                 21\n",
       "Manhattan Valley                     21\n",
       "Clinton West                         18\n",
       "East Harlem South                    14\n",
       "Financial District North             14\n",
       "Morningside Heights                  13\n",
       "World Trade Center                   12\n",
       "Astoria                              10\n",
       "Bloomingdale                          8\n",
       "East Harlem North                     8\n",
       "Chinatown                             7\n",
       "Sunnyside                             7\n",
       "Central Harlem                        7\n",
       "Seaport                               6\n",
       "Washington Heights South              5\n",
       "Hamilton Heights                      5\n",
       "Fort Greene                           5\n",
       "Two Bridges/Seward Park               5\n",
       "Alphabet City                         5\n",
       "Financial District South              5\n",
       "Williamsburg (South Side)             4\n",
       "Stuy Town/Peter Cooper Village        4\n",
       "Long Island City/Queens Plaza         4\n",
       "Park Slope                            3\n",
       "Boerum Hill                           3\n",
       "Old Astoria                           3\n",
       "Manhattanville                        3\n",
       "Brooklyn Heights                      3\n",
       "Central Harlem North                  3\n",
       "Steinway                              3\n",
       "Greenpoint                            2\n",
       "East Concourse/Concourse Village      2\n",
       "Cobble Hill                           2\n",
       "Williamsburg (North Side)             2\n",
       "Long Island City/Hunters Point        2\n",
       "Elmhurst                              2\n",
       "Queensbridge/Ravenswood               2\n",
       "East New York                         2\n",
       "Flushing                              2\n",
       "Downtown Brooklyn/MetroTech           2\n",
       "Mott Haven/Port Morris                2\n",
       "Windsor Terrace                       1\n",
       "Queens Village                        1\n",
       "West Concourse                        1\n",
       "Bedford                               1\n",
       "Jackson Heights                       1\n",
       "South Jamaica                         1\n",
       "Bushwick North                        1\n",
       "Williamsbridge/Olinville              1\n",
       "Gowanus                               1\n",
       "Soundview/Castle Hill                 1\n",
       "Ridgewood                             1\n",
       "South Ozone Park                      1\n",
       "East Flatbush/Farragut                1\n",
       "Prospect Heights                      1\n",
       "Rosedale                              1\n",
       "Crown Heights North                   1\n",
       "Stuyvesant Heights                    1\n",
       "DUMBO/Vinegar Hill                    1\n",
       "Queensboro Hill                       1\n",
       "East Tremont                          1\n",
       "Flatlands                             1\n",
       "Name: pickup_zone, dtype: int64"
      ]
     },
     "execution_count": 44,
     "metadata": {},
     "output_type": "execute_result"
    }
   ],
   "source": [
    "df['pickup_zone'].value_counts()"
   ]
  },
  {
   "attachments": {},
   "cell_type": "markdown",
   "metadata": {},
   "source": [
    "`Nuestra variable respuesta (dependiente) sera la columna 'tips'.`\n",
    "\n",
    "`Nuestra variable predictora (independiente) será la columna 'total'. Pero creemos que puede que cambiemos de enfoque en un futuro, así que vamos a limpiar la columna 'pickup_zone' de nulos.`"
   ]
  },
  {
   "cell_type": "code",
   "execution_count": 52,
   "metadata": {},
   "outputs": [
    {
     "data": {
      "text/plain": [
       "0"
      ]
     },
     "execution_count": 52,
     "metadata": {},
     "output_type": "execute_result"
    }
   ],
   "source": [
    "df['tip'].isnull().sum()"
   ]
  },
  {
   "cell_type": "code",
   "execution_count": 47,
   "metadata": {},
   "outputs": [
    {
     "data": {
      "text/plain": [
       "[42, 606, 622, 671, 712, 970, 1108, 1961, 2137]"
      ]
     },
     "execution_count": 47,
     "metadata": {},
     "output_type": "execute_result"
    }
   ],
   "source": [
    "# limpiamos la columna 'pickup_zone' de nulos. Los eliminamos porque tenemos solo 9 valores nulos.\n",
    "lista_nulos=list(df[df['pickup_zone'].isnull()].index)\n",
    "lista_nulos"
   ]
  },
  {
   "cell_type": "code",
   "execution_count": 48,
   "metadata": {},
   "outputs": [
    {
     "data": {
      "text/plain": [
       "(2705, 14)"
      ]
     },
     "execution_count": 48,
     "metadata": {},
     "output_type": "execute_result"
    }
   ],
   "source": [
    "df.shape"
   ]
  },
  {
   "cell_type": "code",
   "execution_count": 49,
   "metadata": {},
   "outputs": [
    {
     "data": {
      "text/plain": [
       "0"
      ]
     },
     "execution_count": 49,
     "metadata": {},
     "output_type": "execute_result"
    }
   ],
   "source": [
    "df.drop(lista_nulos,inplace=True)\n",
    "df['pickup_zone'].isnull().sum()"
   ]
  },
  {
   "cell_type": "code",
   "execution_count": 50,
   "metadata": {},
   "outputs": [
    {
     "data": {
      "text/plain": [
       "(2696, 14)"
      ]
     },
     "execution_count": 50,
     "metadata": {},
     "output_type": "execute_result"
    }
   ],
   "source": [
    "df.shape"
   ]
  },
  {
   "cell_type": "code",
   "execution_count": 53,
   "metadata": {},
   "outputs": [],
   "source": [
    "df.to_csv('files/taxis1.csv')"
   ]
  },
  {
   "attachments": {},
   "cell_type": "markdown",
   "metadata": {},
   "source": [
    "**Happy coding** 📊📈📉"
   ]
  }
 ],
 "metadata": {
  "kernelspec": {
   "display_name": "base",
   "language": "python",
   "name": "python3"
  },
  "language_info": {
   "codemirror_mode": {
    "name": "ipython",
    "version": 3
   },
   "file_extension": ".py",
   "mimetype": "text/x-python",
   "name": "python",
   "nbconvert_exporter": "python",
   "pygments_lexer": "ipython3",
   "version": "3.9.7 (default, Sep 16 2021, 13:09:58) \n[GCC 7.5.0]"
  },
  "orig_nbformat": 4,
  "vscode": {
   "interpreter": {
    "hash": "468215beec16e96f99bc366ecab75b1d75db716e353e0417cbdb37be88f0d883"
   }
  }
 },
 "nbformat": 4,
 "nbformat_minor": 2
}
