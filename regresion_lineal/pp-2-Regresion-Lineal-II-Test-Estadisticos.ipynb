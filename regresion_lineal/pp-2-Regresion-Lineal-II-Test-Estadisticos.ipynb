{
 "cells": [
  {
   "attachments": {},
   "cell_type": "markdown",
   "metadata": {},
   "source": [
    "# Ejercicios Pair Programming - Modulo 3 - Sprint 1 \n",
    "## Lección 2 - Test Estadísticos\n",
    "### Pilar García Murillo y Sonia Ruiz Pérez"
   ]
  },
  {
   "cell_type": "code",
   "execution_count": 38,
   "metadata": {},
   "outputs": [],
   "source": [
    "import pandas as pd\n",
    "import numpy as np\n",
    "from scipy.stats import skew\n",
    "import seaborn as sns\n",
    "import matplotlib as plt\n",
    "from scipy.stats import kurtosistest\n",
    "from scipy import stats\n",
    "from scipy.stats import kstest"
   ]
  },
  {
   "cell_type": "code",
   "execution_count": 3,
   "metadata": {},
   "outputs": [
    {
     "data": {
      "text/html": [
       "<div>\n",
       "<style scoped>\n",
       "    .dataframe tbody tr th:only-of-type {\n",
       "        vertical-align: middle;\n",
       "    }\n",
       "\n",
       "    .dataframe tbody tr th {\n",
       "        vertical-align: top;\n",
       "    }\n",
       "\n",
       "    .dataframe thead th {\n",
       "        text-align: right;\n",
       "    }\n",
       "</style>\n",
       "<table border=\"1\" class=\"dataframe\">\n",
       "  <thead>\n",
       "    <tr style=\"text-align: right;\">\n",
       "      <th></th>\n",
       "      <th>pickup</th>\n",
       "      <th>dropoff</th>\n",
       "      <th>passengers</th>\n",
       "      <th>distance</th>\n",
       "      <th>fare</th>\n",
       "      <th>tip</th>\n",
       "      <th>tolls</th>\n",
       "      <th>total</th>\n",
       "      <th>color</th>\n",
       "      <th>payment</th>\n",
       "      <th>pickup_zone</th>\n",
       "      <th>dropoff_zone</th>\n",
       "      <th>pickup_borough</th>\n",
       "      <th>dropoff_borough</th>\n",
       "    </tr>\n",
       "  </thead>\n",
       "  <tbody>\n",
       "    <tr>\n",
       "      <th>0</th>\n",
       "      <td>2019-03-23 20:21:09</td>\n",
       "      <td>2019-03-23 20:27:24</td>\n",
       "      <td>1</td>\n",
       "      <td>1.60</td>\n",
       "      <td>7.0</td>\n",
       "      <td>2.15</td>\n",
       "      <td>0.0</td>\n",
       "      <td>12.95</td>\n",
       "      <td>yellow</td>\n",
       "      <td>credit card</td>\n",
       "      <td>Lenox Hill West</td>\n",
       "      <td>UN/Turtle Bay South</td>\n",
       "      <td>Manhattan</td>\n",
       "      <td>Manhattan</td>\n",
       "    </tr>\n",
       "    <tr>\n",
       "      <th>1</th>\n",
       "      <td>2019-03-04 16:11:55</td>\n",
       "      <td>2019-03-04 16:19:00</td>\n",
       "      <td>1</td>\n",
       "      <td>0.79</td>\n",
       "      <td>5.0</td>\n",
       "      <td>0.00</td>\n",
       "      <td>0.0</td>\n",
       "      <td>9.30</td>\n",
       "      <td>yellow</td>\n",
       "      <td>cash</td>\n",
       "      <td>Upper West Side South</td>\n",
       "      <td>Upper West Side South</td>\n",
       "      <td>Manhattan</td>\n",
       "      <td>Manhattan</td>\n",
       "    </tr>\n",
       "    <tr>\n",
       "      <th>2</th>\n",
       "      <td>2019-03-27 17:53:01</td>\n",
       "      <td>2019-03-27 18:00:25</td>\n",
       "      <td>1</td>\n",
       "      <td>1.37</td>\n",
       "      <td>7.5</td>\n",
       "      <td>2.36</td>\n",
       "      <td>0.0</td>\n",
       "      <td>14.16</td>\n",
       "      <td>yellow</td>\n",
       "      <td>credit card</td>\n",
       "      <td>Alphabet City</td>\n",
       "      <td>West Village</td>\n",
       "      <td>Manhattan</td>\n",
       "      <td>Manhattan</td>\n",
       "    </tr>\n",
       "  </tbody>\n",
       "</table>\n",
       "</div>"
      ],
      "text/plain": [
       "                pickup              dropoff  passengers  distance  fare   tip  \\\n",
       "0  2019-03-23 20:21:09  2019-03-23 20:27:24           1      1.60   7.0  2.15   \n",
       "1  2019-03-04 16:11:55  2019-03-04 16:19:00           1      0.79   5.0  0.00   \n",
       "2  2019-03-27 17:53:01  2019-03-27 18:00:25           1      1.37   7.5  2.36   \n",
       "\n",
       "   tolls  total   color      payment            pickup_zone  \\\n",
       "0    0.0  12.95  yellow  credit card        Lenox Hill West   \n",
       "1    0.0   9.30  yellow         cash  Upper West Side South   \n",
       "2    0.0  14.16  yellow  credit card          Alphabet City   \n",
       "\n",
       "            dropoff_zone pickup_borough dropoff_borough  \n",
       "0    UN/Turtle Bay South      Manhattan       Manhattan  \n",
       "1  Upper West Side South      Manhattan       Manhattan  \n",
       "2           West Village      Manhattan       Manhattan  "
      ]
     },
     "execution_count": 3,
     "metadata": {},
     "output_type": "execute_result"
    }
   ],
   "source": [
    "df=pd.read_csv('files/taxis1.csv', index_col=0)\n",
    "df.head(3)"
   ]
  },
  {
   "attachments": {},
   "cell_type": "markdown",
   "metadata": {},
   "source": [
    "En este ejercicio de pair programming seguiréis usando el dataset que seleccionasteis ayer.\n",
    "1. ¿Qué diferencia existe el error de tipo I y el error de tipo II?"
   ]
  },
  {
   "attachments": {},
   "cell_type": "markdown",
   "metadata": {},
   "source": [
    "- `Nuestra Hipótesis nula (H0) es que no existe relación entre la propina ('tips') y el precio total del viaje en taxi ('total').`\n",
    "- `Nuestra Hipótesis alternativa (H1) es que las propinas se ven afectadas por el precio total del viaje en taxi.`"
   ]
  },
  {
   "attachments": {},
   "cell_type": "markdown",
   "metadata": {},
   "source": [
    "- `Error Tipo I: es si rechazamos la hipótesis nula cuando es verdadera. En nuestro caso, tendríamos un error tipo I si pensamos que existe relación entre la propina y el precio total del viaje en taxi, cuando en realidad no existe dicha relación.`\n",
    "- `Error Tipo II: ocurre cuando la hipotesis nula es falsa y no la rechazamos. En nuestro caso, ocurre cuando pensamos que no existe relación entre las propinas y el precio total del viaje en taxi, sin embargo, la realidad es que sí existe una relación entre dichas variables.`"
   ]
  },
  {
   "attachments": {},
   "cell_type": "markdown",
   "metadata": {},
   "source": [
    "2. ¿Qué es la asimetría?"
   ]
  },
  {
   "attachments": {},
   "cell_type": "markdown",
   "metadata": {},
   "source": [
    "`La asimetría es la falta de simetría que presenta una distribución teniendo en cuenta la media. Su curva puede estar sesgada hacia un lado u otro ('skew').`"
   ]
  },
  {
   "attachments": {},
   "cell_type": "markdown",
   "metadata": {},
   "source": [
    "3. ¿Es vuestra variable respuesta asimétrica?"
   ]
  },
  {
   "cell_type": "code",
   "execution_count": 7,
   "metadata": {},
   "outputs": [
    {
     "name": "stdout",
     "output_type": "stream",
     "text": [
      "El valor de la \"skewness\" de la columna \"tip\", es decir, su asimetría es de 2.380535181416375\n"
     ]
    }
   ],
   "source": [
    "print('El valor de la \"skewness\" de la columna \"tip\", es decir, su asimetría es de', skew(df['tip']))"
   ]
  },
  {
   "attachments": {},
   "cell_type": "markdown",
   "metadata": {},
   "source": [
    "`Es decir, nuestra variable respuesta (dependiente) ('tip') presenta una distribución asimétrica positiva, ya que el valor de skew es mayor de 0. Por tanto, la mediana se encuentra hacia los valores más bajos de la variable, es decir, está sesgada a la derecha.`"
   ]
  },
  {
   "cell_type": "code",
   "execution_count": 23,
   "metadata": {},
   "outputs": [
    {
     "name": "stderr",
     "output_type": "stream",
     "text": [
      "No handles with labels found to put in legend.\n"
     ]
    },
    {
     "data": {
      "image/png": "[encoded data removed]",
      "text/plain": [
       "<Figure size 432x288 with 1 Axes>"
      ]
     },
     "metadata": {
      "needs_background": "light"
     },
     "output_type": "display_data"
    }
   ],
   "source": [
    "mediana=df['tip'].median()\n",
    "graf=sns.histplot(df['tip'],color='purple',kde=True)\n",
    "graf.axvline(x=mediana,color='blue');"
   ]
  },
  {
   "attachments": {},
   "cell_type": "markdown",
   "metadata": {},
   "source": [
    "`Como podemos ver en la gráfica, la \"cola\" derecha de los datos es más larga, por tanto confirmamos el valor de \"skew\". La línea azul representa la mediana.`"
   ]
  },
  {
   "attachments": {},
   "cell_type": "markdown",
   "metadata": {},
   "source": [
    "4. ¿Qué tipo de curtosis presenta vuestra variable respuesta?"
   ]
  },
  {
   "cell_type": "code",
   "execution_count": 29,
   "metadata": {},
   "outputs": [
    {
     "name": "stdout",
     "output_type": "stream",
     "text": [
      "El resultado de la curtosis de la columna \"tip\"\n",
      " KurtosistestResult(statistic=20.811709292864183, pvalue=3.390387904513919e-96)\n"
     ]
    }
   ],
   "source": [
    "print('El resultado de la curtosis de la columna \"tip\"\\n', kurtosistest(df['tip']))"
   ]
  },
  {
   "attachments": {},
   "cell_type": "markdown",
   "metadata": {},
   "source": [
    "`Dado que la curtosis determina el grado de concentración que presentan los valores alrededor de la zona central de la distribución de frecuencias, nuestra variable 'tip' tiene una curtosis de tipo Leptocurtosis.`"
   ]
  },
  {
   "attachments": {},
   "cell_type": "markdown",
   "metadata": {},
   "source": [
    "5. ¿Es vuestra variable respuesta normal? Demostrarlo visual y analíticamente."
   ]
  },
  {
   "cell_type": "code",
   "execution_count": 33,
   "metadata": {},
   "outputs": [
    {
     "name": "stderr",
     "output_type": "stream",
     "text": [
      "/home/solkiria/anaconda3/lib/python3.9/site-packages/seaborn/distributions.py:2619: FutureWarning: `distplot` is a deprecated function and will be removed in a future version. Please adapt your code to use either `displot` (a figure-level function with similar flexibility) or `kdeplot` (an axes-level function for kernel density plots).\n",
      "  warnings.warn(msg, FutureWarning)\n"
     ]
    },
    {
     "data": {
      "image/png": "[encoded data removed]",
      "text/plain": [
       "<Figure size 432x288 with 1 Axes>"
      ]
     },
     "metadata": {
      "needs_background": "light"
     },
     "output_type": "display_data"
    }
   ],
   "source": [
    "sns.distplot(\n",
    "    df[\"tip\"], \n",
    "    hist = False, \n",
    "    color = \"purple\", \n",
    "    kde_kws = {\"shade\": True, \"linewidth\": 1});"
   ]
  },
  {
   "attachments": {},
   "cell_type": "markdown",
   "metadata": {},
   "source": [
    "`Vemos que los datos representados no tienen forma de campana de Gauss.`"
   ]
  },
  {
   "cell_type": "code",
   "execution_count": 34,
   "metadata": {},
   "outputs": [
    {
     "data": {
      "text/plain": [
       "(2696, 14)"
      ]
     },
     "execution_count": 34,
     "metadata": {},
     "output_type": "execute_result"
    }
   ],
   "source": [
    "#Comprobamos que tenemos menos de 5000 filas en nuestro dataframe.\n",
    "df.shape"
   ]
  },
  {
   "cell_type": "code",
   "execution_count": 37,
   "metadata": {},
   "outputs": [
    {
     "name": "stdout",
     "output_type": "stream",
     "text": [
      "El resultado del test de normalidad de la columna \"tip\" es:\n",
      " ShapiroResult(statistic=0.7672148942947388, pvalue=0.0)\n"
     ]
    }
   ],
   "source": [
    "print('El resultado del test de normalidad de la columna \"tip\" es:\\n',stats.shapiro(df['tip']))"
   ]
  },
  {
   "attachments": {},
   "cell_type": "markdown",
   "metadata": {},
   "source": [
    "`Tras observar la gráfica que representa los datos de la columna 'tip' y obtener el p-value del test de Shapiro-Wilk, y tener un valor de 0, concluimos que los datos no tienen una distribución normal. Podemos rechazar la hipótesis nula (H0) de este estadístico, que decía que lo datos son normales.`"
   ]
  },
  {
   "attachments": {},
   "cell_type": "markdown",
   "metadata": {},
   "source": [
    "**Happy coding** 💪🏽"
   ]
  }
 ],
 "metadata": {
  "kernelspec": {
   "display_name": "base",
   "language": "python",
   "name": "python3"
  },
  "language_info": {
   "codemirror_mode": {
    "name": "ipython",
    "version": 3
   },
   "file_extension": ".py",
   "mimetype": "text/x-python",
   "name": "python",
   "nbconvert_exporter": "python",
   "pygments_lexer": "ipython3",
   "version": "3.9.7"
  },
  "orig_nbformat": 4,
  "vscode": {
   "interpreter": {
    "hash": "468215beec16e96f99bc366ecab75b1d75db716e353e0417cbdb37be88f0d883"
   }
  }
 },
 "nbformat": 4,
 "nbformat_minor": 2
}
