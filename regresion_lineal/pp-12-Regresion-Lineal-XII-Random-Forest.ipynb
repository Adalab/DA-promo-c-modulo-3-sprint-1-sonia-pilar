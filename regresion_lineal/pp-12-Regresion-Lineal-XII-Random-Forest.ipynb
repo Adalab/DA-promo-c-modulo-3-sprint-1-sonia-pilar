{
 "cells": [
  {
   "attachments": {},
   "cell_type": "markdown",
   "metadata": {},
   "source": [
    "# Ejercicios Pair Programming - Modulo 3 - Sprint 1 \n",
    "## Lección 12 - Random Forest\n",
    "### Pilar García y Sonia Ruiz Pérez"
   ]
  },
  {
   "attachments": {},
   "cell_type": "markdown",
   "metadata": {},
   "source": [
    "En el pair programming de hoy debéis usar el csv que guardastéis cuando hicistéis el pairprgramming de codificicación (este csv debería tener las variables estadandarizas).\n",
    "\n",
    "En pairprogramming anteriores ajustastéis vuestro datos a una regresión lineal y a un Decision Tree. El objetivo de hoy es:\n",
    "- Ajustar el modelo a un Random Forest\n",
    "- Extraer las métricas\n",
    "- Debatid entre vosotras que modelo es mejor y por qué (basándose en las métricas)\n",
    "\n",
    "Happy coding 🤔"
   ]
  },
  {
   "cell_type": "code",
   "execution_count": 15,
   "metadata": {},
   "outputs": [],
   "source": [
    "# Tratamiento de datos\n",
    "import numpy as np\n",
    "import pandas as pd\n",
    "\n",
    "# Gráficos\n",
    "import matplotlib.pyplot as plt\n",
    "import seaborn as sns\n",
    "\n",
    "# Modelado y evaluación\n",
    "from sklearn.model_selection import train_test_split\n",
    "from sklearn.metrics import r2_score,mean_squared_error,mean_absolute_error\n",
    "\n",
    "from sklearn.tree import DecisionTreeRegressor\n",
    "from sklearn import tree\n",
    "from sklearn.model_selection import GridSearchCV\n",
    "\n",
    "from sklearn.ensemble import RandomForestRegressor\n",
    "\n",
    "pd.options.display.max_columns=None"
   ]
  },
  {
   "cell_type": "code",
   "execution_count": 16,
   "metadata": {},
   "outputs": [
    {
     "data": {
      "text/html": [
       "<div>\n",
       "<style scoped>\n",
       "    .dataframe tbody tr th:only-of-type {\n",
       "        vertical-align: middle;\n",
       "    }\n",
       "\n",
       "    .dataframe tbody tr th {\n",
       "        vertical-align: top;\n",
       "    }\n",
       "\n",
       "    .dataframe thead th {\n",
       "        text-align: right;\n",
       "    }\n",
       "</style>\n",
       "<table border=\"1\" class=\"dataframe\">\n",
       "  <thead>\n",
       "    <tr style=\"text-align: right;\">\n",
       "      <th></th>\n",
       "      <th>pickup</th>\n",
       "      <th>dropoff</th>\n",
       "      <th>passengers</th>\n",
       "      <th>distance</th>\n",
       "      <th>fare</th>\n",
       "      <th>tip</th>\n",
       "      <th>tolls</th>\n",
       "      <th>total</th>\n",
       "      <th>pickup_zone</th>\n",
       "      <th>dropoff_zone</th>\n",
       "      <th>pickup_borough</th>\n",
       "      <th>dropoff_borough</th>\n",
       "      <th>tip_no_zeros</th>\n",
       "      <th>tip_box</th>\n",
       "      <th>passengers_robust</th>\n",
       "      <th>distance_robust</th>\n",
       "      <th>fare_robust</th>\n",
       "      <th>tolls_robust</th>\n",
       "      <th>total_robust</th>\n",
       "      <th>x0_green</th>\n",
       "      <th>x0_yellow</th>\n",
       "      <th>payment_cash</th>\n",
       "      <th>payment_credit_card</th>\n",
       "      <th>pickup_borough_oe</th>\n",
       "      <th>dropoff_borough_map</th>\n",
       "    </tr>\n",
       "  </thead>\n",
       "  <tbody>\n",
       "    <tr>\n",
       "      <th>0</th>\n",
       "      <td>2019-03-23 20:21:09</td>\n",
       "      <td>2019-03-23 20:27:24</td>\n",
       "      <td>1</td>\n",
       "      <td>1.60</td>\n",
       "      <td>7.0</td>\n",
       "      <td>2.15</td>\n",
       "      <td>0.0</td>\n",
       "      <td>12.95</td>\n",
       "      <td>Lenox Hill West</td>\n",
       "      <td>UN/Turtle Bay South</td>\n",
       "      <td>Manhattan</td>\n",
       "      <td>Manhattan</td>\n",
       "      <td>2.150000e+00</td>\n",
       "      <td>0.787753</td>\n",
       "      <td>0.0</td>\n",
       "      <td>-0.022624</td>\n",
       "      <td>-0.294118</td>\n",
       "      <td>0.0</td>\n",
       "      <td>-0.127368</td>\n",
       "      <td>0</td>\n",
       "      <td>1</td>\n",
       "      <td>0</td>\n",
       "      <td>1</td>\n",
       "      <td>2</td>\n",
       "      <td>0</td>\n",
       "    </tr>\n",
       "    <tr>\n",
       "      <th>1</th>\n",
       "      <td>2019-03-04 16:11:55</td>\n",
       "      <td>2019-03-04 16:19:00</td>\n",
       "      <td>1</td>\n",
       "      <td>0.79</td>\n",
       "      <td>5.0</td>\n",
       "      <td>0.00</td>\n",
       "      <td>0.0</td>\n",
       "      <td>9.30</td>\n",
       "      <td>Upper West Side South</td>\n",
       "      <td>Upper West Side South</td>\n",
       "      <td>Manhattan</td>\n",
       "      <td>Manhattan</td>\n",
       "      <td>1.000000e-10</td>\n",
       "      <td>-10.996744</td>\n",
       "      <td>0.0</td>\n",
       "      <td>-0.389140</td>\n",
       "      <td>-0.529412</td>\n",
       "      <td>0.0</td>\n",
       "      <td>-0.511579</td>\n",
       "      <td>0</td>\n",
       "      <td>1</td>\n",
       "      <td>1</td>\n",
       "      <td>0</td>\n",
       "      <td>2</td>\n",
       "      <td>0</td>\n",
       "    </tr>\n",
       "    <tr>\n",
       "      <th>2</th>\n",
       "      <td>2019-03-27 17:53:01</td>\n",
       "      <td>2019-03-27 18:00:25</td>\n",
       "      <td>1</td>\n",
       "      <td>1.37</td>\n",
       "      <td>7.5</td>\n",
       "      <td>2.36</td>\n",
       "      <td>0.0</td>\n",
       "      <td>14.16</td>\n",
       "      <td>Alphabet City</td>\n",
       "      <td>West Village</td>\n",
       "      <td>Manhattan</td>\n",
       "      <td>Manhattan</td>\n",
       "      <td>2.360000e+00</td>\n",
       "      <td>0.886769</td>\n",
       "      <td>0.0</td>\n",
       "      <td>-0.126697</td>\n",
       "      <td>-0.235294</td>\n",
       "      <td>0.0</td>\n",
       "      <td>0.000000</td>\n",
       "      <td>0</td>\n",
       "      <td>1</td>\n",
       "      <td>0</td>\n",
       "      <td>1</td>\n",
       "      <td>2</td>\n",
       "      <td>0</td>\n",
       "    </tr>\n",
       "  </tbody>\n",
       "</table>\n",
       "</div>"
      ],
      "text/plain": [
       "                pickup              dropoff  passengers  distance  fare   tip  \\\n",
       "0  2019-03-23 20:21:09  2019-03-23 20:27:24           1      1.60   7.0  2.15   \n",
       "1  2019-03-04 16:11:55  2019-03-04 16:19:00           1      0.79   5.0  0.00   \n",
       "2  2019-03-27 17:53:01  2019-03-27 18:00:25           1      1.37   7.5  2.36   \n",
       "\n",
       "   tolls  total            pickup_zone           dropoff_zone pickup_borough  \\\n",
       "0    0.0  12.95        Lenox Hill West    UN/Turtle Bay South      Manhattan   \n",
       "1    0.0   9.30  Upper West Side South  Upper West Side South      Manhattan   \n",
       "2    0.0  14.16          Alphabet City           West Village      Manhattan   \n",
       "\n",
       "  dropoff_borough  tip_no_zeros    tip_box  passengers_robust  \\\n",
       "0       Manhattan  2.150000e+00   0.787753                0.0   \n",
       "1       Manhattan  1.000000e-10 -10.996744                0.0   \n",
       "2       Manhattan  2.360000e+00   0.886769                0.0   \n",
       "\n",
       "   distance_robust  fare_robust  tolls_robust  total_robust  x0_green  \\\n",
       "0        -0.022624    -0.294118           0.0     -0.127368         0   \n",
       "1        -0.389140    -0.529412           0.0     -0.511579         0   \n",
       "2        -0.126697    -0.235294           0.0      0.000000         0   \n",
       "\n",
       "   x0_yellow  payment_cash  payment_credit_card  pickup_borough_oe  \\\n",
       "0          1             0                    1                  2   \n",
       "1          1             1                    0                  2   \n",
       "2          1             0                    1                  2   \n",
       "\n",
       "   dropoff_borough_map  \n",
       "0                    0  \n",
       "1                    0  \n",
       "2                    0  "
      ]
     },
     "execution_count": 16,
     "metadata": {},
     "output_type": "execute_result"
    }
   ],
   "source": [
    "#Creamos el dataframe con el csv con nuestros datos.\n",
    "df1 = pd.read_csv('files/taxis4_encoding.csv',index_col=0)\n",
    "df1.head(3)"
   ]
  },
  {
   "cell_type": "code",
   "execution_count": 17,
   "metadata": {},
   "outputs": [],
   "source": [
    "# Vamos a quedarnos con las columnas originales, eliminamos las columnas normalizadas, estandarizas y también algunas\n",
    "#  que no nos hacen falta para el modelo DecisionTree\n",
    "lista_eliminar = ['pickup', 'dropoff', 'pickup_zone', 'dropoff_zone', 'pickup_borough',\n",
    "       'dropoff_borough', 'tip_no_zeros', 'tip_box', 'passengers_robust',\n",
    "       'distance_robust', 'fare_robust', 'tolls_robust', 'total_robust', 'x0_green', 'payment_cash']"
   ]
  },
  {
   "cell_type": "code",
   "execution_count": 18,
   "metadata": {},
   "outputs": [
    {
     "data": {
      "text/html": [
       "<div>\n",
       "<style scoped>\n",
       "    .dataframe tbody tr th:only-of-type {\n",
       "        vertical-align: middle;\n",
       "    }\n",
       "\n",
       "    .dataframe tbody tr th {\n",
       "        vertical-align: top;\n",
       "    }\n",
       "\n",
       "    .dataframe thead th {\n",
       "        text-align: right;\n",
       "    }\n",
       "</style>\n",
       "<table border=\"1\" class=\"dataframe\">\n",
       "  <thead>\n",
       "    <tr style=\"text-align: right;\">\n",
       "      <th></th>\n",
       "      <th>passengers</th>\n",
       "      <th>distance</th>\n",
       "      <th>fare</th>\n",
       "      <th>tip</th>\n",
       "      <th>tolls</th>\n",
       "      <th>total</th>\n",
       "      <th>x0_yellow</th>\n",
       "      <th>payment_credit_card</th>\n",
       "      <th>pickup_borough_oe</th>\n",
       "      <th>dropoff_borough_map</th>\n",
       "    </tr>\n",
       "  </thead>\n",
       "  <tbody>\n",
       "    <tr>\n",
       "      <th>0</th>\n",
       "      <td>1</td>\n",
       "      <td>1.60</td>\n",
       "      <td>7.0</td>\n",
       "      <td>2.15</td>\n",
       "      <td>0.0</td>\n",
       "      <td>12.95</td>\n",
       "      <td>1</td>\n",
       "      <td>1</td>\n",
       "      <td>2</td>\n",
       "      <td>0</td>\n",
       "    </tr>\n",
       "    <tr>\n",
       "      <th>1</th>\n",
       "      <td>1</td>\n",
       "      <td>0.79</td>\n",
       "      <td>5.0</td>\n",
       "      <td>0.00</td>\n",
       "      <td>0.0</td>\n",
       "      <td>9.30</td>\n",
       "      <td>1</td>\n",
       "      <td>0</td>\n",
       "      <td>2</td>\n",
       "      <td>0</td>\n",
       "    </tr>\n",
       "    <tr>\n",
       "      <th>2</th>\n",
       "      <td>1</td>\n",
       "      <td>1.37</td>\n",
       "      <td>7.5</td>\n",
       "      <td>2.36</td>\n",
       "      <td>0.0</td>\n",
       "      <td>14.16</td>\n",
       "      <td>1</td>\n",
       "      <td>1</td>\n",
       "      <td>2</td>\n",
       "      <td>0</td>\n",
       "    </tr>\n",
       "  </tbody>\n",
       "</table>\n",
       "</div>"
      ],
      "text/plain": [
       "   passengers  distance  fare   tip  tolls  total  x0_yellow  \\\n",
       "0           1      1.60   7.0  2.15    0.0  12.95          1   \n",
       "1           1      0.79   5.0  0.00    0.0   9.30          1   \n",
       "2           1      1.37   7.5  2.36    0.0  14.16          1   \n",
       "\n",
       "   payment_credit_card  pickup_borough_oe  dropoff_borough_map  \n",
       "0                    1                  2                    0  \n",
       "1                    0                  2                    0  \n",
       "2                    1                  2                    0  "
      ]
     },
     "execution_count": 18,
     "metadata": {},
     "output_type": "execute_result"
    }
   ],
   "source": [
    "df = df1.drop(lista_eliminar, axis=1)\n",
    "df.head(3)"
   ]
  },
  {
   "cell_type": "code",
   "execution_count": 19,
   "metadata": {},
   "outputs": [],
   "source": [
    "# X: variables predictoras (independientes)\n",
    "# y: variable respuesta (dependiente)\n",
    "X = df.drop(\"tip\", axis=1)\n",
    "y = df[\"tip\"]"
   ]
  },
  {
   "cell_type": "code",
   "execution_count": 20,
   "metadata": {},
   "outputs": [],
   "source": [
    "# Dividir los datos en train y test\n",
    "# random_state = 42 --> semilla, para que siempre tenga los mismos datos\n",
    "x_train, x_test, y_train, y_test = train_test_split(X, y, test_size=0.2, random_state=42)"
   ]
  },
  {
   "cell_type": "code",
   "execution_count": 21,
   "metadata": {},
   "outputs": [],
   "source": [
    "# Definir diccionario con los hiperparámetros a modificar\n",
    "# min_samples_split: número mínimo de observaciones que debe tener un nodo para dividirse, por defecto [10, 50, 100]\n",
    "# min_samples_leaf: número mínimo de observaciones que debe tener cada uno de los nodos hijos para que se produzca la division, por defecto [10, 50, 100]\n",
    "param = {\"max_depth\": [2,5,9], \"max_features\": [1,2,3,4], \"min_samples_split\": [10, 50, 100], \"min_samples_leaf\": [10,50,100]}"
   ]
  },
  {
   "cell_type": "code",
   "execution_count": 22,
   "metadata": {},
   "outputs": [],
   "source": [
    "# Ajustar el modelo con GridSearchCV\n",
    "# cv = 10 --> número de veces que hacemos la validación\n",
    "# verbose = - 1 --> para no printear ningún mensaje en la pantalla\n",
    "grid_forest = GridSearchCV(estimator=RandomForestRegressor(), param_grid=param, cv=10, verbose=-1,\n",
    "    return_train_score=True, scoring=\"neg_mean_squared_error\")"
   ]
  },
  {
   "cell_type": "code",
   "execution_count": 23,
   "metadata": {},
   "outputs": [
    {
     "data": {
      "text/plain": [
       "GridSearchCV(cv=10, estimator=RandomForestRegressor(),\n",
       "             param_grid={'max_depth': [2, 5, 9], 'max_features': [1, 2, 3, 4],\n",
       "                         'min_samples_leaf': [10, 50, 100],\n",
       "                         'min_samples_split': [10, 50, 100]},\n",
       "             return_train_score=True, scoring='neg_mean_squared_error',\n",
       "             verbose=-1)"
      ]
     },
     "execution_count": 23,
     "metadata": {},
     "output_type": "execute_result"
    }
   ],
   "source": [
    "# Ajustar el modelo\n",
    "grid_forest.fit(x_train, y_train)"
   ]
  },
  {
   "cell_type": "code",
   "execution_count": 24,
   "metadata": {},
   "outputs": [
    {
     "data": {
      "text/plain": [
       "RandomForestRegressor(max_depth=9, max_features=4, min_samples_leaf=10,\n",
       "                      min_samples_split=10)"
      ]
     },
     "execution_count": 24,
     "metadata": {},
     "output_type": "execute_result"
    }
   ],
   "source": [
    "# El método nos dice cuál es el mejor modelo,\n",
    "bosque = grid_forest.best_estimator_\n",
    "bosque"
   ]
  },
  {
   "cell_type": "code",
   "execution_count": 25,
   "metadata": {},
   "outputs": [],
   "source": [
    "# Predicción para los datos de entrenamiento\n",
    "y_predict_train = bosque.predict(x_train)"
   ]
  },
  {
   "cell_type": "code",
   "execution_count": 26,
   "metadata": {},
   "outputs": [],
   "source": [
    "# Predicción para los datos de test\n",
    "y_predict_test = bosque.predict(x_test)"
   ]
  },
  {
   "cell_type": "code",
   "execution_count": 27,
   "metadata": {},
   "outputs": [],
   "source": [
    "def obtener_metricas(y_test_m, y_train_m, y_predict_test_m, y_predict_train_m, modelo):\n",
    "    # En un diccionario, calcular las métricas de train y test\n",
    "    resultados_metricas = {\n",
    "        'MAE': [mean_absolute_error(y_test_m, y_predict_test_m), mean_absolute_error(y_train_m, y_predict_train_m)],\n",
    "        'MSE': [mean_squared_error(y_test_m, y_predict_test_m), mean_squared_error(y_train_m, y_predict_train_m)],\n",
    "        'RMSE': [np.sqrt(mean_squared_error(y_test_m, y_predict_test_m)), np.sqrt(mean_squared_error(y_train_m, y_predict_train_m))],\n",
    "        'R2':  [r2_score(y_test_m, y_predict_test_m), r2_score(y_train_m, y_predict_train_m)],\n",
    "        \"set\": [\"test\", \"train\"], \n",
    "        \"modelo\": [modelo, modelo]}\n",
    "\n",
    "    # Pasamos a dataframe el diccionario para su mejor visualizacion\n",
    "    df_resultados_metricas = pd.DataFrame(resultados_metricas)\n",
    "\n",
    "    return df_resultados_metricas"
   ]
  },
  {
   "cell_type": "code",
   "execution_count": 28,
   "metadata": {},
   "outputs": [
    {
     "data": {
      "text/html": [
       "<div>\n",
       "<style scoped>\n",
       "    .dataframe tbody tr th:only-of-type {\n",
       "        vertical-align: middle;\n",
       "    }\n",
       "\n",
       "    .dataframe tbody tr th {\n",
       "        vertical-align: top;\n",
       "    }\n",
       "\n",
       "    .dataframe thead th {\n",
       "        text-align: right;\n",
       "    }\n",
       "</style>\n",
       "<table border=\"1\" class=\"dataframe\">\n",
       "  <thead>\n",
       "    <tr style=\"text-align: right;\">\n",
       "      <th></th>\n",
       "      <th>MAE</th>\n",
       "      <th>MSE</th>\n",
       "      <th>RMSE</th>\n",
       "      <th>R2</th>\n",
       "      <th>set</th>\n",
       "      <th>modelo</th>\n",
       "    </tr>\n",
       "  </thead>\n",
       "  <tbody>\n",
       "    <tr>\n",
       "      <th>0</th>\n",
       "      <td>0.444349</td>\n",
       "      <td>0.852215</td>\n",
       "      <td>0.923155</td>\n",
       "      <td>0.838381</td>\n",
       "      <td>test</td>\n",
       "      <td>Random Forest Regressor</td>\n",
       "    </tr>\n",
       "    <tr>\n",
       "      <th>1</th>\n",
       "      <td>0.415203</td>\n",
       "      <td>0.666574</td>\n",
       "      <td>0.816440</td>\n",
       "      <td>0.882103</td>\n",
       "      <td>train</td>\n",
       "      <td>Random Forest Regressor</td>\n",
       "    </tr>\n",
       "  </tbody>\n",
       "</table>\n",
       "</div>"
      ],
      "text/plain": [
       "        MAE       MSE      RMSE        R2    set                   modelo\n",
       "0  0.444349  0.852215  0.923155  0.838381   test  Random Forest Regressor\n",
       "1  0.415203  0.666574  0.816440  0.882103  train  Random Forest Regressor"
      ]
     },
     "execution_count": 28,
     "metadata": {},
     "output_type": "execute_result"
    }
   ],
   "source": [
    "df_resultado = obtener_metricas(y_test, y_train, y_predict_test, y_predict_train, \"Random Forest Regressor\")\n",
    "df_resultado"
   ]
  },
  {
   "attachments": {},
   "cell_type": "markdown",
   "metadata": {},
   "source": [
    "`Como podemos observar el R2 del método Random Forest nos indica un resultado aceptable ya que existe una variación del 5% siendo en ambas bastante altas aunque superior en train. En el resto de métricas también son mejores en train que en test, ya que son menores. Aún así los resultados obtenidos indican una buena bondad de nuestro modelo, ya que el valor de RMSE en test y train nos dice que la predicción de nuestra variable respuesta (tip-propina) varía menos de 1$.`"
   ]
  }
 ],
 "metadata": {
  "kernelspec": {
   "display_name": "base",
   "language": "python",
   "name": "python3"
  },
  "language_info": {
   "codemirror_mode": {
    "name": "ipython",
    "version": 3
   },
   "file_extension": ".py",
   "mimetype": "text/x-python",
   "name": "python",
   "nbconvert_exporter": "python",
   "pygments_lexer": "ipython3",
   "version": "3.9.7 (default, Sep 16 2021, 13:09:58) \n[GCC 7.5.0]"
  },
  "orig_nbformat": 4,
  "vscode": {
   "interpreter": {
    "hash": "6e8aefa1bb798882dbdb84db5119449300b1df017c6fd8f01a2c188a17dff6eb"
   }
  }
 },
 "nbformat": 4,
 "nbformat_minor": 2
}
