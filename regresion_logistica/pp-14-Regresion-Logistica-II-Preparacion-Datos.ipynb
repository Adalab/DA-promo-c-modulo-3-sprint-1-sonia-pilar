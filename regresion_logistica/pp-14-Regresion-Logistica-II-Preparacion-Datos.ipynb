{
 "cells": [
  {
   "attachments": {},
   "cell_type": "markdown",
   "metadata": {},
   "source": [
    "# Ejercicios Pair Programming - Modulo 3 - Sprint 1 \n",
    "## Lección 14 - Regresión Logística II: Preprocesado\n",
    "### Pilar García y Sonia Ruiz Pérez"
   ]
  },
  {
   "attachments": {},
   "cell_type": "markdown",
   "metadata": {},
   "source": [
    "Usando el mismo dataset que usatéis ayer, los objetivos de los ejercicios de hoy son:"
   ]
  },
  {
   "cell_type": "code",
   "execution_count": 143,
   "metadata": {},
   "outputs": [],
   "source": [
    "#Librerías\n",
    "# Tratamiento de datos\n",
    "import numpy as np\n",
    "import pandas as pd\n",
    "import sidetable\n",
    "\n",
    "# Gráficos\n",
    "import matplotlib.pyplot as plt\n",
    "import seaborn as sns\n",
    "\n",
    "#Estandarización variables numéricas\n",
    "from sklearn.preprocessing import StandardScaler\n",
    "\n",
    "#Separación de datos en 'train' y 'test'\n",
    "from sklearn.model_selection import train_test_split\n",
    "\n",
    "#Método SMOTE\n",
    "from imblearn.combine import SMOTETomek\n",
    "\n",
    "pd.options.display.max_columns=None"
   ]
  },
  {
   "cell_type": "code",
   "execution_count": 144,
   "metadata": {},
   "outputs": [
    {
     "data": {
      "text/html": [
       "<div>\n",
       "<style scoped>\n",
       "    .dataframe tbody tr th:only-of-type {\n",
       "        vertical-align: middle;\n",
       "    }\n",
       "\n",
       "    .dataframe tbody tr th {\n",
       "        vertical-align: top;\n",
       "    }\n",
       "\n",
       "    .dataframe thead th {\n",
       "        text-align: right;\n",
       "    }\n",
       "</style>\n",
       "<table border=\"1\" class=\"dataframe\">\n",
       "  <thead>\n",
       "    <tr style=\"text-align: right;\">\n",
       "      <th></th>\n",
       "      <th>age</th>\n",
       "      <th>sex</th>\n",
       "      <th>chest_pain_type</th>\n",
       "      <th>resting_bp</th>\n",
       "      <th>cholesterol</th>\n",
       "      <th>fasting_bs</th>\n",
       "      <th>resting_ecg</th>\n",
       "      <th>max_hr</th>\n",
       "      <th>exercise_angina</th>\n",
       "      <th>oldpeak</th>\n",
       "      <th>st_slope</th>\n",
       "      <th>heart_disease</th>\n",
       "    </tr>\n",
       "  </thead>\n",
       "  <tbody>\n",
       "    <tr>\n",
       "      <th>0</th>\n",
       "      <td>40</td>\n",
       "      <td>M</td>\n",
       "      <td>ATA</td>\n",
       "      <td>140</td>\n",
       "      <td>289</td>\n",
       "      <td>0</td>\n",
       "      <td>Normal</td>\n",
       "      <td>172</td>\n",
       "      <td>N</td>\n",
       "      <td>0.0</td>\n",
       "      <td>Up</td>\n",
       "      <td>0</td>\n",
       "    </tr>\n",
       "    <tr>\n",
       "      <th>1</th>\n",
       "      <td>49</td>\n",
       "      <td>F</td>\n",
       "      <td>NAP</td>\n",
       "      <td>160</td>\n",
       "      <td>180</td>\n",
       "      <td>0</td>\n",
       "      <td>Normal</td>\n",
       "      <td>156</td>\n",
       "      <td>N</td>\n",
       "      <td>1.0</td>\n",
       "      <td>Flat</td>\n",
       "      <td>1</td>\n",
       "    </tr>\n",
       "    <tr>\n",
       "      <th>2</th>\n",
       "      <td>37</td>\n",
       "      <td>M</td>\n",
       "      <td>ATA</td>\n",
       "      <td>130</td>\n",
       "      <td>283</td>\n",
       "      <td>0</td>\n",
       "      <td>ST</td>\n",
       "      <td>98</td>\n",
       "      <td>N</td>\n",
       "      <td>0.0</td>\n",
       "      <td>Up</td>\n",
       "      <td>0</td>\n",
       "    </tr>\n",
       "    <tr>\n",
       "      <th>3</th>\n",
       "      <td>48</td>\n",
       "      <td>F</td>\n",
       "      <td>ASY</td>\n",
       "      <td>138</td>\n",
       "      <td>214</td>\n",
       "      <td>0</td>\n",
       "      <td>Normal</td>\n",
       "      <td>108</td>\n",
       "      <td>Y</td>\n",
       "      <td>1.5</td>\n",
       "      <td>Flat</td>\n",
       "      <td>1</td>\n",
       "    </tr>\n",
       "    <tr>\n",
       "      <th>4</th>\n",
       "      <td>54</td>\n",
       "      <td>M</td>\n",
       "      <td>NAP</td>\n",
       "      <td>150</td>\n",
       "      <td>195</td>\n",
       "      <td>0</td>\n",
       "      <td>Normal</td>\n",
       "      <td>122</td>\n",
       "      <td>N</td>\n",
       "      <td>0.0</td>\n",
       "      <td>Up</td>\n",
       "      <td>0</td>\n",
       "    </tr>\n",
       "    <tr>\n",
       "      <th>5</th>\n",
       "      <td>39</td>\n",
       "      <td>M</td>\n",
       "      <td>NAP</td>\n",
       "      <td>120</td>\n",
       "      <td>339</td>\n",
       "      <td>0</td>\n",
       "      <td>Normal</td>\n",
       "      <td>170</td>\n",
       "      <td>N</td>\n",
       "      <td>0.0</td>\n",
       "      <td>Up</td>\n",
       "      <td>0</td>\n",
       "    </tr>\n",
       "    <tr>\n",
       "      <th>6</th>\n",
       "      <td>45</td>\n",
       "      <td>F</td>\n",
       "      <td>ATA</td>\n",
       "      <td>130</td>\n",
       "      <td>237</td>\n",
       "      <td>0</td>\n",
       "      <td>Normal</td>\n",
       "      <td>170</td>\n",
       "      <td>N</td>\n",
       "      <td>0.0</td>\n",
       "      <td>Up</td>\n",
       "      <td>0</td>\n",
       "    </tr>\n",
       "    <tr>\n",
       "      <th>7</th>\n",
       "      <td>54</td>\n",
       "      <td>M</td>\n",
       "      <td>ATA</td>\n",
       "      <td>110</td>\n",
       "      <td>208</td>\n",
       "      <td>0</td>\n",
       "      <td>Normal</td>\n",
       "      <td>142</td>\n",
       "      <td>N</td>\n",
       "      <td>0.0</td>\n",
       "      <td>Up</td>\n",
       "      <td>0</td>\n",
       "    </tr>\n",
       "    <tr>\n",
       "      <th>8</th>\n",
       "      <td>37</td>\n",
       "      <td>M</td>\n",
       "      <td>ASY</td>\n",
       "      <td>140</td>\n",
       "      <td>207</td>\n",
       "      <td>0</td>\n",
       "      <td>Normal</td>\n",
       "      <td>130</td>\n",
       "      <td>Y</td>\n",
       "      <td>1.5</td>\n",
       "      <td>Flat</td>\n",
       "      <td>1</td>\n",
       "    </tr>\n",
       "    <tr>\n",
       "      <th>9</th>\n",
       "      <td>48</td>\n",
       "      <td>F</td>\n",
       "      <td>ATA</td>\n",
       "      <td>120</td>\n",
       "      <td>284</td>\n",
       "      <td>0</td>\n",
       "      <td>Normal</td>\n",
       "      <td>120</td>\n",
       "      <td>N</td>\n",
       "      <td>0.0</td>\n",
       "      <td>Up</td>\n",
       "      <td>0</td>\n",
       "    </tr>\n",
       "  </tbody>\n",
       "</table>\n",
       "</div>"
      ],
      "text/plain": [
       "   age sex chest_pain_type  resting_bp  cholesterol  fasting_bs resting_ecg  \\\n",
       "0   40   M             ATA         140          289           0      Normal   \n",
       "1   49   F             NAP         160          180           0      Normal   \n",
       "2   37   M             ATA         130          283           0          ST   \n",
       "3   48   F             ASY         138          214           0      Normal   \n",
       "4   54   M             NAP         150          195           0      Normal   \n",
       "5   39   M             NAP         120          339           0      Normal   \n",
       "6   45   F             ATA         130          237           0      Normal   \n",
       "7   54   M             ATA         110          208           0      Normal   \n",
       "8   37   M             ASY         140          207           0      Normal   \n",
       "9   48   F             ATA         120          284           0      Normal   \n",
       "\n",
       "   max_hr exercise_angina  oldpeak st_slope  heart_disease  \n",
       "0     172               N      0.0       Up              0  \n",
       "1     156               N      1.0     Flat              1  \n",
       "2      98               N      0.0       Up              0  \n",
       "3     108               Y      1.5     Flat              1  \n",
       "4     122               N      0.0       Up              0  \n",
       "5     170               N      0.0       Up              0  \n",
       "6     170               N      0.0       Up              0  \n",
       "7     142               N      0.0       Up              0  \n",
       "8     130               Y      1.5     Flat              1  \n",
       "9     120               N      0.0       Up              0  "
      ]
     },
     "execution_count": 144,
     "metadata": {},
     "output_type": "execute_result"
    }
   ],
   "source": [
    "#Creamos un dataframe con los datos que queremos utilizar para nuestro estudio.\n",
    "df=pd.read_csv('files/heart_eda_principal.csv',index_col=0)\n",
    "df.head(10)"
   ]
  },
  {
   "cell_type": "code",
   "execution_count": 145,
   "metadata": {},
   "outputs": [
    {
     "data": {
      "text/plain": [
       "(701, 12)"
      ]
     },
     "execution_count": 145,
     "metadata": {},
     "output_type": "execute_result"
    }
   ],
   "source": [
    "df.shape"
   ]
  },
  {
   "attachments": {},
   "cell_type": "markdown",
   "metadata": {},
   "source": [
    "- Estandarizar las variables numéricas de vuestro set de datos"
   ]
  },
  {
   "cell_type": "code",
   "execution_count": 146,
   "metadata": {},
   "outputs": [
    {
     "data": {
      "text/html": [
       "<div>\n",
       "<style scoped>\n",
       "    .dataframe tbody tr th:only-of-type {\n",
       "        vertical-align: middle;\n",
       "    }\n",
       "\n",
       "    .dataframe tbody tr th {\n",
       "        vertical-align: top;\n",
       "    }\n",
       "\n",
       "    .dataframe thead th {\n",
       "        text-align: right;\n",
       "    }\n",
       "</style>\n",
       "<table border=\"1\" class=\"dataframe\">\n",
       "  <thead>\n",
       "    <tr style=\"text-align: right;\">\n",
       "      <th></th>\n",
       "      <th>age</th>\n",
       "      <th>resting_bp</th>\n",
       "      <th>cholesterol</th>\n",
       "      <th>fasting_bs</th>\n",
       "      <th>max_hr</th>\n",
       "      <th>oldpeak</th>\n",
       "      <th>heart_disease</th>\n",
       "    </tr>\n",
       "  </thead>\n",
       "  <tbody>\n",
       "    <tr>\n",
       "      <th>0</th>\n",
       "      <td>40</td>\n",
       "      <td>140</td>\n",
       "      <td>289</td>\n",
       "      <td>0</td>\n",
       "      <td>172</td>\n",
       "      <td>0.0</td>\n",
       "      <td>0</td>\n",
       "    </tr>\n",
       "    <tr>\n",
       "      <th>1</th>\n",
       "      <td>49</td>\n",
       "      <td>160</td>\n",
       "      <td>180</td>\n",
       "      <td>0</td>\n",
       "      <td>156</td>\n",
       "      <td>1.0</td>\n",
       "      <td>1</td>\n",
       "    </tr>\n",
       "    <tr>\n",
       "      <th>2</th>\n",
       "      <td>37</td>\n",
       "      <td>130</td>\n",
       "      <td>283</td>\n",
       "      <td>0</td>\n",
       "      <td>98</td>\n",
       "      <td>0.0</td>\n",
       "      <td>0</td>\n",
       "    </tr>\n",
       "  </tbody>\n",
       "</table>\n",
       "</div>"
      ],
      "text/plain": [
       "   age  resting_bp  cholesterol  fasting_bs  max_hr  oldpeak  heart_disease\n",
       "0   40         140          289           0     172      0.0              0\n",
       "1   49         160          180           0     156      1.0              1\n",
       "2   37         130          283           0      98      0.0              0"
      ]
     },
     "execution_count": 146,
     "metadata": {},
     "output_type": "execute_result"
    }
   ],
   "source": [
    "#Creamos un dataframe solo con las columnas numéricas.\n",
    "df_numericas= df.select_dtypes(include=np.number)\n",
    "df_numericas.head(3)"
   ]
  },
  {
   "cell_type": "code",
   "execution_count": 147,
   "metadata": {},
   "outputs": [
    {
     "data": {
      "text/html": [
       "<style>#sk-container-id-6 {color: black;background-color: white;}#sk-container-id-6 pre{padding: 0;}#sk-container-id-6 div.sk-toggleable {background-color: white;}#sk-container-id-6 label.sk-toggleable__label {cursor: pointer;display: block;width: 100%;margin-bottom: 0;padding: 0.3em;box-sizing: border-box;text-align: center;}#sk-container-id-6 label.sk-toggleable__label-arrow:before {content: \"▸\";float: left;margin-right: 0.25em;color: #696969;}#sk-container-id-6 label.sk-toggleable__label-arrow:hover:before {color: black;}#sk-container-id-6 div.sk-estimator:hover label.sk-toggleable__label-arrow:before {color: black;}#sk-container-id-6 div.sk-toggleable__content {max-height: 0;max-width: 0;overflow: hidden;text-align: left;background-color: #f0f8ff;}#sk-container-id-6 div.sk-toggleable__content pre {margin: 0.2em;color: black;border-radius: 0.25em;background-color: #f0f8ff;}#sk-container-id-6 input.sk-toggleable__control:checked~div.sk-toggleable__content {max-height: 200px;max-width: 100%;overflow: auto;}#sk-container-id-6 input.sk-toggleable__control:checked~label.sk-toggleable__label-arrow:before {content: \"▾\";}#sk-container-id-6 div.sk-estimator input.sk-toggleable__control:checked~label.sk-toggleable__label {background-color: #d4ebff;}#sk-container-id-6 div.sk-label input.sk-toggleable__control:checked~label.sk-toggleable__label {background-color: #d4ebff;}#sk-container-id-6 input.sk-hidden--visually {border: 0;clip: rect(1px 1px 1px 1px);clip: rect(1px, 1px, 1px, 1px);height: 1px;margin: -1px;overflow: hidden;padding: 0;position: absolute;width: 1px;}#sk-container-id-6 div.sk-estimator {font-family: monospace;background-color: #f0f8ff;border: 1px dotted black;border-radius: 0.25em;box-sizing: border-box;margin-bottom: 0.5em;}#sk-container-id-6 div.sk-estimator:hover {background-color: #d4ebff;}#sk-container-id-6 div.sk-parallel-item::after {content: \"\";width: 100%;border-bottom: 1px solid gray;flex-grow: 1;}#sk-container-id-6 div.sk-label:hover label.sk-toggleable__label {background-color: #d4ebff;}#sk-container-id-6 div.sk-serial::before {content: \"\";position: absolute;border-left: 1px solid gray;box-sizing: border-box;top: 0;bottom: 0;left: 50%;z-index: 0;}#sk-container-id-6 div.sk-serial {display: flex;flex-direction: column;align-items: center;background-color: white;padding-right: 0.2em;padding-left: 0.2em;position: relative;}#sk-container-id-6 div.sk-item {position: relative;z-index: 1;}#sk-container-id-6 div.sk-parallel {display: flex;align-items: stretch;justify-content: center;background-color: white;position: relative;}#sk-container-id-6 div.sk-item::before, #sk-container-id-6 div.sk-parallel-item::before {content: \"\";position: absolute;border-left: 1px solid gray;box-sizing: border-box;top: 0;bottom: 0;left: 50%;z-index: -1;}#sk-container-id-6 div.sk-parallel-item {display: flex;flex-direction: column;z-index: 1;position: relative;background-color: white;}#sk-container-id-6 div.sk-parallel-item:first-child::after {align-self: flex-end;width: 50%;}#sk-container-id-6 div.sk-parallel-item:last-child::after {align-self: flex-start;width: 50%;}#sk-container-id-6 div.sk-parallel-item:only-child::after {width: 0;}#sk-container-id-6 div.sk-dashed-wrapped {border: 1px dashed gray;margin: 0 0.4em 0.5em 0.4em;box-sizing: border-box;padding-bottom: 0.4em;background-color: white;}#sk-container-id-6 div.sk-label label {font-family: monospace;font-weight: bold;display: inline-block;line-height: 1.2em;}#sk-container-id-6 div.sk-label-container {text-align: center;}#sk-container-id-6 div.sk-container {/* jupyter's `normalize.less` sets `[hidden] { display: none; }` but bootstrap.min.css set `[hidden] { display: none !important; }` so we also need the `!important` here to be able to override the default hidden behavior on the sphinx rendered scikit-learn.org. See: https://github.com/scikit-learn/scikit-learn/issues/21755 */display: inline-block !important;position: relative;}#sk-container-id-6 div.sk-text-repr-fallback {display: none;}</style><div id=\"sk-container-id-6\" class=\"sk-top-container\"><div class=\"sk-text-repr-fallback\"><pre>StandardScaler()</pre><b>In a Jupyter environment, please rerun this cell to show the HTML representation or trust the notebook. <br />On GitHub, the HTML representation is unable to render, please try loading this page with nbviewer.org.</b></div><div class=\"sk-container\" hidden><div class=\"sk-item\"><div class=\"sk-estimator sk-toggleable\"><input class=\"sk-toggleable__control sk-hidden--visually\" id=\"sk-estimator-id-6\" type=\"checkbox\" checked><label for=\"sk-estimator-id-6\" class=\"sk-toggleable__label sk-toggleable__label-arrow\">StandardScaler</label><div class=\"sk-toggleable__content\"><pre>StandardScaler()</pre></div></div></div></div></div>"
      ],
      "text/plain": [
       "StandardScaler()"
      ]
     },
     "execution_count": 147,
     "metadata": {},
     "output_type": "execute_result"
    }
   ],
   "source": [
    "#Iniciamos el método de estandarización.\n",
    "scaler=StandardScaler()\n",
    "\n",
    "#Ajustamos a nuestro datos.\n",
    "scaler.fit(df_numericas)"
   ]
  },
  {
   "cell_type": "code",
   "execution_count": 148,
   "metadata": {},
   "outputs": [
    {
     "data": {
      "text/html": [
       "<div>\n",
       "<style scoped>\n",
       "    .dataframe tbody tr th:only-of-type {\n",
       "        vertical-align: middle;\n",
       "    }\n",
       "\n",
       "    .dataframe tbody tr th {\n",
       "        vertical-align: top;\n",
       "    }\n",
       "\n",
       "    .dataframe thead th {\n",
       "        text-align: right;\n",
       "    }\n",
       "</style>\n",
       "<table border=\"1\" class=\"dataframe\">\n",
       "  <thead>\n",
       "    <tr style=\"text-align: right;\">\n",
       "      <th></th>\n",
       "      <th>age</th>\n",
       "      <th>resting_bp</th>\n",
       "      <th>cholesterol</th>\n",
       "      <th>fasting_bs</th>\n",
       "      <th>max_hr</th>\n",
       "      <th>oldpeak</th>\n",
       "      <th>heart_disease</th>\n",
       "    </tr>\n",
       "  </thead>\n",
       "  <tbody>\n",
       "    <tr>\n",
       "      <th>0</th>\n",
       "      <td>-1.334331</td>\n",
       "      <td>0.548422</td>\n",
       "      <td>0.984547</td>\n",
       "      <td>-0.44069</td>\n",
       "      <td>1.290461</td>\n",
       "      <td>-0.864955</td>\n",
       "      <td>-0.927047</td>\n",
       "    </tr>\n",
       "    <tr>\n",
       "      <th>1</th>\n",
       "      <td>-0.390470</td>\n",
       "      <td>1.845686</td>\n",
       "      <td>-1.182352</td>\n",
       "      <td>-0.44069</td>\n",
       "      <td>0.633456</td>\n",
       "      <td>0.178110</td>\n",
       "      <td>1.078694</td>\n",
       "    </tr>\n",
       "    <tr>\n",
       "      <th>2</th>\n",
       "      <td>-1.648952</td>\n",
       "      <td>-0.100209</td>\n",
       "      <td>0.865268</td>\n",
       "      <td>-0.44069</td>\n",
       "      <td>-1.748185</td>\n",
       "      <td>-0.864955</td>\n",
       "      <td>-0.927047</td>\n",
       "    </tr>\n",
       "  </tbody>\n",
       "</table>\n",
       "</div>"
      ],
      "text/plain": [
       "        age  resting_bp  cholesterol  fasting_bs    max_hr   oldpeak  \\\n",
       "0 -1.334331    0.548422     0.984547    -0.44069  1.290461 -0.864955   \n",
       "1 -0.390470    1.845686    -1.182352    -0.44069  0.633456  0.178110   \n",
       "2 -1.648952   -0.100209     0.865268    -0.44069 -1.748185 -0.864955   \n",
       "\n",
       "   heart_disease  \n",
       "0      -0.927047  \n",
       "1       1.078694  \n",
       "2      -0.927047  "
      ]
     },
     "execution_count": 148,
     "metadata": {},
     "output_type": "execute_result"
    }
   ],
   "source": [
    "#Transformamos los datos.\n",
    "X_escaladas=scaler.transform(df_numericas)\n",
    "\n",
    "#Convertimos el array en un dataframe.\n",
    "df_num_estandar=pd.DataFrame(X_escaladas,columns=df_numericas.columns)\n",
    "df_num_estandar.head(3)"
   ]
  },
  {
   "cell_type": "code",
   "execution_count": 149,
   "metadata": {},
   "outputs": [
    {
     "name": "stdout",
     "output_type": "stream",
     "text": [
      "La media de la columna age es: -4.054452129872184e-17\n",
      "La desviación estándar de la columna age es: 1.000714030794298\n",
      "---------\n",
      "La media de la columna resting_bp es: 7.880841327439057e-16\n",
      "La desviación estándar de la columna resting_bp es: 1.0007140307942992\n",
      "---------\n",
      "La media de la columna cholesterol es: 2.4580116037350114e-16\n",
      "La desviación estándar de la columna cholesterol es: 1.000714030794298\n",
      "---------\n",
      "La media de la columna fasting_bs es: 4.054452129872184e-17\n",
      "La desviación estándar de la columna fasting_bs es: 1.0007140307943023\n",
      "---------\n",
      "La media de la columna max_hr es: 4.2571747363657926e-16\n",
      "La desviación estándar de la columna max_hr es: 1.0007140307942985\n",
      "---------\n",
      "La media de la columna oldpeak es: -1.013613032468046e-16\n",
      "La desviación estándar de la columna oldpeak es: 1.0007140307942979\n",
      "---------\n",
      "La media de la columna heart_disease es: 4.5612586461062064e-17\n",
      "La desviación estándar de la columna heart_disease es: 1.000714030794298\n",
      "---------\n"
     ]
    }
   ],
   "source": [
    "#Comprobamos la estandarización.\n",
    "for columna in df_numericas.columns:\n",
    "    print(f'La media de la columna {columna} es: {df_num_estandar[columna].mean()}')\n",
    "    print(f'La desviación estándar de la columna {columna} es: {df_num_estandar[columna].std()}')\n",
    "    print('---------')"
   ]
  },
  {
   "attachments": {},
   "cell_type": "markdown",
   "metadata": {},
   "source": [
    "`Vemos que las variables se han estandarizado correctamente ya que tienen una desviación estándar cercana a 1 y una media muy cercana a 0.`"
   ]
  },
  {
   "attachments": {},
   "cell_type": "markdown",
   "metadata": {},
   "source": [
    "- Codificar las variables categóricas. Recordad que tendréis que tener en cuenta si vuestras variables tienen orden o no."
   ]
  },
  {
   "cell_type": "code",
   "execution_count": 150,
   "metadata": {},
   "outputs": [
    {
     "data": {
      "text/html": [
       "<div>\n",
       "<style scoped>\n",
       "    .dataframe tbody tr th:only-of-type {\n",
       "        vertical-align: middle;\n",
       "    }\n",
       "\n",
       "    .dataframe tbody tr th {\n",
       "        vertical-align: top;\n",
       "    }\n",
       "\n",
       "    .dataframe thead th {\n",
       "        text-align: right;\n",
       "    }\n",
       "</style>\n",
       "<table border=\"1\" class=\"dataframe\">\n",
       "  <thead>\n",
       "    <tr style=\"text-align: right;\">\n",
       "      <th></th>\n",
       "      <th>sex</th>\n",
       "      <th>chest_pain_type</th>\n",
       "      <th>resting_ecg</th>\n",
       "      <th>exercise_angina</th>\n",
       "      <th>st_slope</th>\n",
       "    </tr>\n",
       "  </thead>\n",
       "  <tbody>\n",
       "    <tr>\n",
       "      <th>0</th>\n",
       "      <td>M</td>\n",
       "      <td>ATA</td>\n",
       "      <td>Normal</td>\n",
       "      <td>N</td>\n",
       "      <td>Up</td>\n",
       "    </tr>\n",
       "    <tr>\n",
       "      <th>1</th>\n",
       "      <td>F</td>\n",
       "      <td>NAP</td>\n",
       "      <td>Normal</td>\n",
       "      <td>N</td>\n",
       "      <td>Flat</td>\n",
       "    </tr>\n",
       "    <tr>\n",
       "      <th>2</th>\n",
       "      <td>M</td>\n",
       "      <td>ATA</td>\n",
       "      <td>ST</td>\n",
       "      <td>N</td>\n",
       "      <td>Up</td>\n",
       "    </tr>\n",
       "  </tbody>\n",
       "</table>\n",
       "</div>"
      ],
      "text/plain": [
       "  sex chest_pain_type resting_ecg exercise_angina st_slope\n",
       "0   M             ATA      Normal               N       Up\n",
       "1   F             NAP      Normal               N     Flat\n",
       "2   M             ATA          ST               N       Up"
      ]
     },
     "execution_count": 150,
     "metadata": {},
     "output_type": "execute_result"
    }
   ],
   "source": [
    "#Creamos un dataframe con las columnas categóricas.\n",
    "df_categoricas= df.select_dtypes(include='object')\n",
    "df_categoricas.head(3)"
   ]
  },
  {
   "attachments": {},
   "cell_type": "markdown",
   "metadata": {},
   "source": [
    "`En el dataframe tenemos 2 columnas binarias (con dos categorías y sin orden), y 3 clumnas con pocas categorías y sin orden.`"
   ]
  },
  {
   "cell_type": "code",
   "execution_count": 151,
   "metadata": {},
   "outputs": [],
   "source": [
    "#Vamos a hacer encoding utilizando el métoco get_dummies, para ellos creamos una función.\n",
    "def aplicar_get_dummies(df, columna):\n",
    "    # Iniciar el método\n",
    "    df_dummies = pd.get_dummies(df[columna], prefix_sep=\"_\", prefix=columna, dtype=int)\n",
    "\n",
    "    # Concatenar el dataframe original con el dataframe obtenido\n",
    "    df_unido = pd.concat([df, df_dummies], axis=1)\n",
    "\n",
    "    # Eliminar columna original\n",
    "    df_unido.drop(columna, axis=1, inplace=True)\n",
    "\n",
    "    return df_unido"
   ]
  },
  {
   "cell_type": "code",
   "execution_count": 152,
   "metadata": {},
   "outputs": [
    {
     "data": {
      "text/html": [
       "<div>\n",
       "<style scoped>\n",
       "    .dataframe tbody tr th:only-of-type {\n",
       "        vertical-align: middle;\n",
       "    }\n",
       "\n",
       "    .dataframe tbody tr th {\n",
       "        vertical-align: top;\n",
       "    }\n",
       "\n",
       "    .dataframe thead th {\n",
       "        text-align: right;\n",
       "    }\n",
       "</style>\n",
       "<table border=\"1\" class=\"dataframe\">\n",
       "  <thead>\n",
       "    <tr style=\"text-align: right;\">\n",
       "      <th></th>\n",
       "      <th>age</th>\n",
       "      <th>resting_bp</th>\n",
       "      <th>cholesterol</th>\n",
       "      <th>fasting_bs</th>\n",
       "      <th>max_hr</th>\n",
       "      <th>oldpeak</th>\n",
       "      <th>heart_disease</th>\n",
       "      <th>sex_F</th>\n",
       "      <th>sex_M</th>\n",
       "      <th>chest_pain_type_ASY</th>\n",
       "      <th>chest_pain_type_ATA</th>\n",
       "      <th>chest_pain_type_NAP</th>\n",
       "      <th>chest_pain_type_TA</th>\n",
       "      <th>resting_ecg_LVH</th>\n",
       "      <th>resting_ecg_Normal</th>\n",
       "      <th>resting_ecg_ST</th>\n",
       "      <th>exercise_angina_N</th>\n",
       "      <th>exercise_angina_Y</th>\n",
       "      <th>st_slope_Down</th>\n",
       "      <th>st_slope_Flat</th>\n",
       "      <th>st_slope_Up</th>\n",
       "    </tr>\n",
       "  </thead>\n",
       "  <tbody>\n",
       "    <tr>\n",
       "      <th>0</th>\n",
       "      <td>40</td>\n",
       "      <td>140</td>\n",
       "      <td>289</td>\n",
       "      <td>0</td>\n",
       "      <td>172</td>\n",
       "      <td>0.0</td>\n",
       "      <td>0</td>\n",
       "      <td>0</td>\n",
       "      <td>1</td>\n",
       "      <td>0</td>\n",
       "      <td>1</td>\n",
       "      <td>0</td>\n",
       "      <td>0</td>\n",
       "      <td>0</td>\n",
       "      <td>1</td>\n",
       "      <td>0</td>\n",
       "      <td>1</td>\n",
       "      <td>0</td>\n",
       "      <td>0</td>\n",
       "      <td>0</td>\n",
       "      <td>1</td>\n",
       "    </tr>\n",
       "    <tr>\n",
       "      <th>1</th>\n",
       "      <td>49</td>\n",
       "      <td>160</td>\n",
       "      <td>180</td>\n",
       "      <td>0</td>\n",
       "      <td>156</td>\n",
       "      <td>1.0</td>\n",
       "      <td>1</td>\n",
       "      <td>1</td>\n",
       "      <td>0</td>\n",
       "      <td>0</td>\n",
       "      <td>0</td>\n",
       "      <td>1</td>\n",
       "      <td>0</td>\n",
       "      <td>0</td>\n",
       "      <td>1</td>\n",
       "      <td>0</td>\n",
       "      <td>1</td>\n",
       "      <td>0</td>\n",
       "      <td>0</td>\n",
       "      <td>1</td>\n",
       "      <td>0</td>\n",
       "    </tr>\n",
       "    <tr>\n",
       "      <th>2</th>\n",
       "      <td>37</td>\n",
       "      <td>130</td>\n",
       "      <td>283</td>\n",
       "      <td>0</td>\n",
       "      <td>98</td>\n",
       "      <td>0.0</td>\n",
       "      <td>0</td>\n",
       "      <td>0</td>\n",
       "      <td>1</td>\n",
       "      <td>0</td>\n",
       "      <td>1</td>\n",
       "      <td>0</td>\n",
       "      <td>0</td>\n",
       "      <td>0</td>\n",
       "      <td>0</td>\n",
       "      <td>1</td>\n",
       "      <td>1</td>\n",
       "      <td>0</td>\n",
       "      <td>0</td>\n",
       "      <td>0</td>\n",
       "      <td>1</td>\n",
       "    </tr>\n",
       "    <tr>\n",
       "      <th>3</th>\n",
       "      <td>48</td>\n",
       "      <td>138</td>\n",
       "      <td>214</td>\n",
       "      <td>0</td>\n",
       "      <td>108</td>\n",
       "      <td>1.5</td>\n",
       "      <td>1</td>\n",
       "      <td>1</td>\n",
       "      <td>0</td>\n",
       "      <td>1</td>\n",
       "      <td>0</td>\n",
       "      <td>0</td>\n",
       "      <td>0</td>\n",
       "      <td>0</td>\n",
       "      <td>1</td>\n",
       "      <td>0</td>\n",
       "      <td>0</td>\n",
       "      <td>1</td>\n",
       "      <td>0</td>\n",
       "      <td>1</td>\n",
       "      <td>0</td>\n",
       "    </tr>\n",
       "    <tr>\n",
       "      <th>4</th>\n",
       "      <td>54</td>\n",
       "      <td>150</td>\n",
       "      <td>195</td>\n",
       "      <td>0</td>\n",
       "      <td>122</td>\n",
       "      <td>0.0</td>\n",
       "      <td>0</td>\n",
       "      <td>0</td>\n",
       "      <td>1</td>\n",
       "      <td>0</td>\n",
       "      <td>0</td>\n",
       "      <td>1</td>\n",
       "      <td>0</td>\n",
       "      <td>0</td>\n",
       "      <td>1</td>\n",
       "      <td>0</td>\n",
       "      <td>1</td>\n",
       "      <td>0</td>\n",
       "      <td>0</td>\n",
       "      <td>0</td>\n",
       "      <td>1</td>\n",
       "    </tr>\n",
       "  </tbody>\n",
       "</table>\n",
       "</div>"
      ],
      "text/plain": [
       "   age  resting_bp  cholesterol  fasting_bs  max_hr  oldpeak  heart_disease  \\\n",
       "0   40         140          289           0     172      0.0              0   \n",
       "1   49         160          180           0     156      1.0              1   \n",
       "2   37         130          283           0      98      0.0              0   \n",
       "3   48         138          214           0     108      1.5              1   \n",
       "4   54         150          195           0     122      0.0              0   \n",
       "\n",
       "   sex_F  sex_M  chest_pain_type_ASY  chest_pain_type_ATA  \\\n",
       "0      0      1                    0                    1   \n",
       "1      1      0                    0                    0   \n",
       "2      0      1                    0                    1   \n",
       "3      1      0                    1                    0   \n",
       "4      0      1                    0                    0   \n",
       "\n",
       "   chest_pain_type_NAP  chest_pain_type_TA  resting_ecg_LVH  \\\n",
       "0                    0                   0                0   \n",
       "1                    1                   0                0   \n",
       "2                    0                   0                0   \n",
       "3                    0                   0                0   \n",
       "4                    1                   0                0   \n",
       "\n",
       "   resting_ecg_Normal  resting_ecg_ST  exercise_angina_N  exercise_angina_Y  \\\n",
       "0                   1               0                  1                  0   \n",
       "1                   1               0                  1                  0   \n",
       "2                   0               1                  1                  0   \n",
       "3                   1               0                  0                  1   \n",
       "4                   1               0                  1                  0   \n",
       "\n",
       "   st_slope_Down  st_slope_Flat  st_slope_Up  \n",
       "0              0              0            1  \n",
       "1              0              1            0  \n",
       "2              0              0            1  \n",
       "3              0              1            0  \n",
       "4              0              0            1  "
      ]
     },
     "execution_count": 152,
     "metadata": {},
     "output_type": "execute_result"
    }
   ],
   "source": [
    "# Aplicamos la función\n",
    "df = aplicar_get_dummies(df, \"sex\")\n",
    "df = aplicar_get_dummies(df, \"chest_pain_type\")\n",
    "df = aplicar_get_dummies(df, \"resting_ecg\")\n",
    "df = aplicar_get_dummies(df, \"exercise_angina\")\n",
    "df = aplicar_get_dummies(df, \"st_slope\")\n",
    "df.head()"
   ]
  },
  {
   "cell_type": "code",
   "execution_count": 153,
   "metadata": {},
   "outputs": [
    {
     "data": {
      "text/plain": [
       "Index(['age', 'resting_bp', 'cholesterol', 'fasting_bs', 'max_hr', 'oldpeak',\n",
       "       'heart_disease', 'sex_M', 'chest_pain_type_ASY', 'chest_pain_type_ATA',\n",
       "       'chest_pain_type_NAP', 'chest_pain_type_TA', 'resting_ecg_LVH',\n",
       "       'resting_ecg_Normal', 'resting_ecg_ST', 'exercise_angina_Y',\n",
       "       'st_slope_Down', 'st_slope_Flat', 'st_slope_Up'],\n",
       "      dtype='object')"
      ]
     },
     "execution_count": 153,
     "metadata": {},
     "output_type": "execute_result"
    }
   ],
   "source": [
    "#Eliminamos las columnas que no necesitamos paras variables binarias.\n",
    "df.drop(['sex_F','exercise_angina_N'], axis=1, inplace=True)\n",
    "df.columns"
   ]
  },
  {
   "cell_type": "code",
   "execution_count": 154,
   "metadata": {},
   "outputs": [
    {
     "data": {
      "text/plain": [
       "Index(['age', 'resting_bp', 'cholesterol', 'fasting_bs', 'max_hr', 'oldpeak',\n",
       "       'heart_disease', 'male', 'chest_pain_type_ASY', 'chest_pain_type_ATA',\n",
       "       'chest_pain_type_NAP', 'chest_pain_type_TA', 'resting_ecg_LVH',\n",
       "       'resting_ecg_Normal', 'resting_ecg_ST', 'exercise_angina_yes',\n",
       "       'st_slope_Down', 'st_slope_Flat', 'st_slope_Up'],\n",
       "      dtype='object')"
      ]
     },
     "execution_count": 154,
     "metadata": {},
     "output_type": "execute_result"
    }
   ],
   "source": [
    "#Renombramos las dos columnas que han quedado para las 2 variables binarias.\n",
    "dicc_columnas={'sex_M':'male','exercise_angina_Y':'exercise_angina_yes'}\n",
    "df.rename(columns=dicc_columnas,inplace=True)\n",
    "df.columns"
   ]
  },
  {
   "attachments": {},
   "cell_type": "markdown",
   "metadata": {},
   "source": [
    "- Chequear si vuestros datos están balanceados. En caso de que no lo estén utilizad algunas de las herramientas aprendidas en la lección para balancearlos."
   ]
  },
  {
   "cell_type": "code",
   "execution_count": 155,
   "metadata": {},
   "outputs": [
    {
     "name": "stdout",
     "output_type": "stream",
     "text": [
      "El porcentaje de personas con fallo cardiaco es: 46.22%. \n",
      "El porcentaje de personas sin fallo cardiaco es: 53.78%.\n"
     ]
    }
   ],
   "source": [
    "#Comprobamos los valores únicos de nuestra variable respuesta final.\n",
    "valores_unicos_heart=df['heart_disease'].value_counts()\n",
    "print(f'El porcentaje de personas con fallo cardiaco es: {round(valores_unicos_heart[1]*100/df.shape[0],2)}%. \\nEl porcentaje de personas sin fallo cardiaco es: {round(valores_unicos_heart[0]*100/df.shape[0],2)}%.')"
   ]
  },
  {
   "attachments": {},
   "cell_type": "markdown",
   "metadata": {},
   "source": [
    "`Vemos que ambos porcentajes están poco desbalanceados, por tanto no necesitamos aplicar métodos de balanceo. a pesar de ello, vamos a practicar empleando el método de desbalanceo SMOTE para balancearlas un poco más.`"
   ]
  },
  {
   "cell_type": "code",
   "execution_count": 156,
   "metadata": {},
   "outputs": [],
   "source": [
    "# Separamos las variables en 'X' e 'y' y en 'train' y 'test'.\n",
    "y = df['heart_disease']\n",
    "X = df.drop('heart_disease', axis=1)\n",
    "\n",
    "#Dividimos los datos en 'entrenamiento' y 'test'.\n",
    "X_train, X_test, y_train, y_test = train_test_split(X, y, train_size=0.7)\n",
    "\n"
   ]
  },
  {
   "cell_type": "code",
   "execution_count": 159,
   "metadata": {},
   "outputs": [
    {
     "data": {
      "text/plain": [
       "(490, 18)"
      ]
     },
     "execution_count": 159,
     "metadata": {},
     "output_type": "execute_result"
    }
   ],
   "source": [
    "X_train.shape"
   ]
  },
  {
   "cell_type": "code",
   "execution_count": 160,
   "metadata": {},
   "outputs": [
    {
     "data": {
      "text/plain": [
       "(490,)"
      ]
     },
     "execution_count": 160,
     "metadata": {},
     "output_type": "execute_result"
    }
   ],
   "source": [
    "y_train.shape"
   ]
  },
  {
   "cell_type": "code",
   "execution_count": null,
   "metadata": {},
   "outputs": [],
   "source": [
    "# Iniciamos el método\n",
    "os_us = SMOTETomek()\n",
    "\n",
    "# Ajustamos el modelo\n",
    "X_train_res, y_train_res = os_us.fit_resample(X_train, y_train)"
   ]
  },
  {
   "cell_type": "code",
   "execution_count": 141,
   "metadata": {},
   "outputs": [
    {
     "data": {
      "text/plain": [
       "(452, 18)"
      ]
     },
     "execution_count": 141,
     "metadata": {},
     "output_type": "execute_result"
    }
   ],
   "source": [
    "X_train_res.shape"
   ]
  },
  {
   "cell_type": "code",
   "execution_count": 142,
   "metadata": {},
   "outputs": [
    {
     "data": {
      "text/plain": [
       "(211, 18)"
      ]
     },
     "execution_count": 142,
     "metadata": {},
     "output_type": "execute_result"
    }
   ],
   "source": [
    "X_test.shape"
   ]
  },
  {
   "cell_type": "code",
   "execution_count": 127,
   "metadata": {},
   "outputs": [
    {
     "name": "stdout",
     "output_type": "stream",
     "text": [
      "Distribución antes del método SMOTE \n",
      " 0    261\n",
      "1    229\n",
      "Name: heart_disease, dtype: int64\n",
      "..............................................................\n",
      "Distribución después del método SMOTE \n",
      " 0    226\n",
      "1    226\n",
      "Name: heart_disease, dtype: int64\n"
     ]
    }
   ],
   "source": [
    "# Comprobamos cómo han quedado ahora las categorías después del ajuste.\n",
    "print (f\"Distribución antes del método SMOTE \\n {y_train.value_counts()}\" )\n",
    "print(\"..............................................................\")\n",
    "print (f\"Distribución después del método SMOTE \\n {y_train_res.value_counts()}\")"
   ]
  },
  {
   "cell_type": "code",
   "execution_count": 128,
   "metadata": {},
   "outputs": [
    {
     "name": "stdout",
     "output_type": "stream",
     "text": [
      "El porcentaje de personas con fallo cardiaco es: 50.0%. \n",
      "El porcentaje de personas sin fallo cardiaco es: 50.0%.\n"
     ]
    }
   ],
   "source": [
    "#Comprobamos los valores únicos en porcentaje.\n",
    "valores_unicos_y_train=y_train_res.value_counts()\n",
    "print(f'El porcentaje de personas con fallo cardiaco es: {round(valores_unicos_y_train[1]*100/y_train_res.shape[0],2)}%. \\nEl porcentaje de personas sin fallo cardiaco es: {round(valores_unicos_y_train[0]*100/y_train_res.shape[0],2)}%.')"
   ]
  },
  {
   "cell_type": "code",
   "execution_count": 129,
   "metadata": {},
   "outputs": [],
   "source": [
    "x_unido=pd.concat([X_train_res, X_test],axis=0)\n",
    "y_unido=pd.concat([y_train_res, y_test],axis=0)"
   ]
  },
  {
   "cell_type": "code",
   "execution_count": 138,
   "metadata": {},
   "outputs": [
    {
     "data": {
      "text/plain": [
       "(701, 19)"
      ]
     },
     "execution_count": 138,
     "metadata": {},
     "output_type": "execute_result"
    }
   ],
   "source": [
    "df.shape"
   ]
  },
  {
   "cell_type": "code",
   "execution_count": 137,
   "metadata": {},
   "outputs": [
    {
     "data": {
      "text/plain": [
       "(663, 18)"
      ]
     },
     "execution_count": 137,
     "metadata": {},
     "output_type": "execute_result"
    }
   ],
   "source": [
    "x_unido.shape"
   ]
  },
  {
   "cell_type": "code",
   "execution_count": 140,
   "metadata": {},
   "outputs": [
    {
     "data": {
      "text/plain": [
       "(663,)"
      ]
     },
     "execution_count": 140,
     "metadata": {},
     "output_type": "execute_result"
    }
   ],
   "source": [
    "y_unido.shape"
   ]
  },
  {
   "cell_type": "code",
   "execution_count": 130,
   "metadata": {},
   "outputs": [
    {
     "data": {
      "text/plain": [
       "(663, 19)"
      ]
     },
     "execution_count": 130,
     "metadata": {},
     "output_type": "execute_result"
    }
   ],
   "source": [
    "balanceado=pd.concat([x_unido, y_unido],axis=1)\n",
    "balanceado.shape"
   ]
  },
  {
   "attachments": {},
   "cell_type": "markdown",
   "metadata": {},
   "source": [
    "- Guardad el dataframe con los cambios que habéis aplicado para utilizarlo en la siguiente lección."
   ]
  },
  {
   "cell_type": "code",
   "execution_count": 131,
   "metadata": {},
   "outputs": [
    {
     "data": {
      "text/html": [
       "<div>\n",
       "<style scoped>\n",
       "    .dataframe tbody tr th:only-of-type {\n",
       "        vertical-align: middle;\n",
       "    }\n",
       "\n",
       "    .dataframe tbody tr th {\n",
       "        vertical-align: top;\n",
       "    }\n",
       "\n",
       "    .dataframe thead th {\n",
       "        text-align: right;\n",
       "    }\n",
       "</style>\n",
       "<table border=\"1\" class=\"dataframe\">\n",
       "  <thead>\n",
       "    <tr style=\"text-align: right;\">\n",
       "      <th></th>\n",
       "      <th>age</th>\n",
       "      <th>resting_bp</th>\n",
       "      <th>cholesterol</th>\n",
       "      <th>fasting_bs</th>\n",
       "      <th>max_hr</th>\n",
       "      <th>oldpeak</th>\n",
       "      <th>heart_disease</th>\n",
       "      <th>male</th>\n",
       "      <th>chest_pain_type_ASY</th>\n",
       "      <th>chest_pain_type_ATA</th>\n",
       "      <th>chest_pain_type_NAP</th>\n",
       "      <th>chest_pain_type_TA</th>\n",
       "      <th>resting_ecg_LVH</th>\n",
       "      <th>resting_ecg_Normal</th>\n",
       "      <th>resting_ecg_ST</th>\n",
       "      <th>exercise_angina_yes</th>\n",
       "      <th>st_slope_Down</th>\n",
       "      <th>st_slope_Flat</th>\n",
       "      <th>st_slope_Up</th>\n",
       "    </tr>\n",
       "  </thead>\n",
       "  <tbody>\n",
       "    <tr>\n",
       "      <th>0</th>\n",
       "      <td>40</td>\n",
       "      <td>140</td>\n",
       "      <td>289</td>\n",
       "      <td>0</td>\n",
       "      <td>172</td>\n",
       "      <td>0.0</td>\n",
       "      <td>0</td>\n",
       "      <td>1</td>\n",
       "      <td>0</td>\n",
       "      <td>1</td>\n",
       "      <td>0</td>\n",
       "      <td>0</td>\n",
       "      <td>0</td>\n",
       "      <td>1</td>\n",
       "      <td>0</td>\n",
       "      <td>0</td>\n",
       "      <td>0</td>\n",
       "      <td>0</td>\n",
       "      <td>1</td>\n",
       "    </tr>\n",
       "    <tr>\n",
       "      <th>1</th>\n",
       "      <td>49</td>\n",
       "      <td>160</td>\n",
       "      <td>180</td>\n",
       "      <td>0</td>\n",
       "      <td>156</td>\n",
       "      <td>1.0</td>\n",
       "      <td>1</td>\n",
       "      <td>0</td>\n",
       "      <td>0</td>\n",
       "      <td>0</td>\n",
       "      <td>1</td>\n",
       "      <td>0</td>\n",
       "      <td>0</td>\n",
       "      <td>1</td>\n",
       "      <td>0</td>\n",
       "      <td>0</td>\n",
       "      <td>0</td>\n",
       "      <td>1</td>\n",
       "      <td>0</td>\n",
       "    </tr>\n",
       "    <tr>\n",
       "      <th>2</th>\n",
       "      <td>37</td>\n",
       "      <td>130</td>\n",
       "      <td>283</td>\n",
       "      <td>0</td>\n",
       "      <td>98</td>\n",
       "      <td>0.0</td>\n",
       "      <td>0</td>\n",
       "      <td>1</td>\n",
       "      <td>0</td>\n",
       "      <td>1</td>\n",
       "      <td>0</td>\n",
       "      <td>0</td>\n",
       "      <td>0</td>\n",
       "      <td>0</td>\n",
       "      <td>1</td>\n",
       "      <td>0</td>\n",
       "      <td>0</td>\n",
       "      <td>0</td>\n",
       "      <td>1</td>\n",
       "    </tr>\n",
       "  </tbody>\n",
       "</table>\n",
       "</div>"
      ],
      "text/plain": [
       "   age  resting_bp  cholesterol  fasting_bs  max_hr  oldpeak  heart_disease  \\\n",
       "0   40         140          289           0     172      0.0              0   \n",
       "1   49         160          180           0     156      1.0              1   \n",
       "2   37         130          283           0      98      0.0              0   \n",
       "\n",
       "   male  chest_pain_type_ASY  chest_pain_type_ATA  chest_pain_type_NAP  \\\n",
       "0     1                    0                    1                    0   \n",
       "1     0                    0                    0                    1   \n",
       "2     1                    0                    1                    0   \n",
       "\n",
       "   chest_pain_type_TA  resting_ecg_LVH  resting_ecg_Normal  resting_ecg_ST  \\\n",
       "0                   0                0                   1               0   \n",
       "1                   0                0                   1               0   \n",
       "2                   0                0                   0               1   \n",
       "\n",
       "   exercise_angina_yes  st_slope_Down  st_slope_Flat  st_slope_Up  \n",
       "0                    0              0              0            1  \n",
       "1                    0              0              1            0  \n",
       "2                    0              0              0            1  "
      ]
     },
     "execution_count": 131,
     "metadata": {},
     "output_type": "execute_result"
    }
   ],
   "source": [
    "#Comprobamos dataframe donde solo se ha hecho el encoding.\n",
    "df.head(3)"
   ]
  },
  {
   "cell_type": "code",
   "execution_count": 132,
   "metadata": {},
   "outputs": [],
   "source": [
    "df.to_csv('files/heart_eda_principal_encoding.csv')"
   ]
  },
  {
   "cell_type": "code",
   "execution_count": 133,
   "metadata": {},
   "outputs": [
    {
     "data": {
      "text/plain": [
       "(701, 19)"
      ]
     },
     "execution_count": 133,
     "metadata": {},
     "output_type": "execute_result"
    }
   ],
   "source": [
    "df.shape"
   ]
  },
  {
   "cell_type": "code",
   "execution_count": 134,
   "metadata": {},
   "outputs": [
    {
     "data": {
      "text/html": [
       "<div>\n",
       "<style scoped>\n",
       "    .dataframe tbody tr th:only-of-type {\n",
       "        vertical-align: middle;\n",
       "    }\n",
       "\n",
       "    .dataframe tbody tr th {\n",
       "        vertical-align: top;\n",
       "    }\n",
       "\n",
       "    .dataframe thead th {\n",
       "        text-align: right;\n",
       "    }\n",
       "</style>\n",
       "<table border=\"1\" class=\"dataframe\">\n",
       "  <thead>\n",
       "    <tr style=\"text-align: right;\">\n",
       "      <th></th>\n",
       "      <th>age</th>\n",
       "      <th>resting_bp</th>\n",
       "      <th>cholesterol</th>\n",
       "      <th>fasting_bs</th>\n",
       "      <th>max_hr</th>\n",
       "      <th>oldpeak</th>\n",
       "      <th>heart_disease</th>\n",
       "      <th>male</th>\n",
       "      <th>chest_pain_type_ASY</th>\n",
       "      <th>chest_pain_type_ATA</th>\n",
       "      <th>chest_pain_type_NAP</th>\n",
       "      <th>chest_pain_type_TA</th>\n",
       "      <th>resting_ecg_LVH</th>\n",
       "      <th>resting_ecg_Normal</th>\n",
       "      <th>resting_ecg_ST</th>\n",
       "      <th>exercise_angina_yes</th>\n",
       "      <th>st_slope_Down</th>\n",
       "      <th>st_slope_Flat</th>\n",
       "      <th>st_slope_Up</th>\n",
       "    </tr>\n",
       "  </thead>\n",
       "  <tbody>\n",
       "    <tr>\n",
       "      <th>0</th>\n",
       "      <td>-1.334331</td>\n",
       "      <td>0.548422</td>\n",
       "      <td>0.984547</td>\n",
       "      <td>-0.44069</td>\n",
       "      <td>1.290461</td>\n",
       "      <td>-0.864955</td>\n",
       "      <td>-0.927047</td>\n",
       "      <td>1</td>\n",
       "      <td>0</td>\n",
       "      <td>1</td>\n",
       "      <td>0</td>\n",
       "      <td>0</td>\n",
       "      <td>0</td>\n",
       "      <td>1</td>\n",
       "      <td>0</td>\n",
       "      <td>0</td>\n",
       "      <td>0</td>\n",
       "      <td>0</td>\n",
       "      <td>1</td>\n",
       "    </tr>\n",
       "    <tr>\n",
       "      <th>1</th>\n",
       "      <td>-0.390470</td>\n",
       "      <td>1.845686</td>\n",
       "      <td>-1.182352</td>\n",
       "      <td>-0.44069</td>\n",
       "      <td>0.633456</td>\n",
       "      <td>0.178110</td>\n",
       "      <td>1.078694</td>\n",
       "      <td>0</td>\n",
       "      <td>0</td>\n",
       "      <td>0</td>\n",
       "      <td>1</td>\n",
       "      <td>0</td>\n",
       "      <td>0</td>\n",
       "      <td>1</td>\n",
       "      <td>0</td>\n",
       "      <td>0</td>\n",
       "      <td>0</td>\n",
       "      <td>1</td>\n",
       "      <td>0</td>\n",
       "    </tr>\n",
       "    <tr>\n",
       "      <th>2</th>\n",
       "      <td>-1.648952</td>\n",
       "      <td>-0.100209</td>\n",
       "      <td>0.865268</td>\n",
       "      <td>-0.44069</td>\n",
       "      <td>-1.748185</td>\n",
       "      <td>-0.864955</td>\n",
       "      <td>-0.927047</td>\n",
       "      <td>1</td>\n",
       "      <td>0</td>\n",
       "      <td>1</td>\n",
       "      <td>0</td>\n",
       "      <td>0</td>\n",
       "      <td>0</td>\n",
       "      <td>0</td>\n",
       "      <td>1</td>\n",
       "      <td>0</td>\n",
       "      <td>0</td>\n",
       "      <td>0</td>\n",
       "      <td>1</td>\n",
       "    </tr>\n",
       "  </tbody>\n",
       "</table>\n",
       "</div>"
      ],
      "text/plain": [
       "        age  resting_bp  cholesterol  fasting_bs    max_hr   oldpeak  \\\n",
       "0 -1.334331    0.548422     0.984547    -0.44069  1.290461 -0.864955   \n",
       "1 -0.390470    1.845686    -1.182352    -0.44069  0.633456  0.178110   \n",
       "2 -1.648952   -0.100209     0.865268    -0.44069 -1.748185 -0.864955   \n",
       "\n",
       "   heart_disease  male  chest_pain_type_ASY  chest_pain_type_ATA  \\\n",
       "0      -0.927047     1                    0                    1   \n",
       "1       1.078694     0                    0                    0   \n",
       "2      -0.927047     1                    0                    1   \n",
       "\n",
       "   chest_pain_type_NAP  chest_pain_type_TA  resting_ecg_LVH  \\\n",
       "0                    0                   0                0   \n",
       "1                    1                   0                0   \n",
       "2                    0                   0                0   \n",
       "\n",
       "   resting_ecg_Normal  resting_ecg_ST  exercise_angina_yes  st_slope_Down  \\\n",
       "0                   1               0                    0              0   \n",
       "1                   1               0                    0              0   \n",
       "2                   0               1                    0              0   \n",
       "\n",
       "   st_slope_Flat  st_slope_Up  \n",
       "0              0            1  \n",
       "1              1            0  \n",
       "2              0            1  "
      ]
     },
     "execution_count": 134,
     "metadata": {},
     "output_type": "execute_result"
    }
   ],
   "source": [
    "#Unimos las columnas estandarizadas al dataframe con el encoding.\n",
    "df2=df.copy()\n",
    "df2.drop(list(df_num_estandar.columns),axis=1,inplace=True)\n",
    "df2=pd.concat([df_num_estandar,df2],axis=1)\n",
    "\n",
    "#Comprobamos dataframe donde se ha hecho el encoding y la estandarización.\n",
    "df2.head(3)"
   ]
  },
  {
   "cell_type": "code",
   "execution_count": 135,
   "metadata": {},
   "outputs": [],
   "source": [
    "df2.to_csv('files/heart_eda_principal_encoding_estandar.csv')"
   ]
  },
  {
   "cell_type": "code",
   "execution_count": 136,
   "metadata": {},
   "outputs": [
    {
     "data": {
      "text/plain": [
       "(701, 19)"
      ]
     },
     "execution_count": 136,
     "metadata": {},
     "output_type": "execute_result"
    }
   ],
   "source": [
    "df2.shape"
   ]
  },
  {
   "attachments": {},
   "cell_type": "markdown",
   "metadata": {},
   "source": [
    "# `FALTA GUARDAR EL CSV CON LOS DATOS BALANCEADOS`"
   ]
  },
  {
   "attachments": {},
   "cell_type": "markdown",
   "metadata": {},
   "source": [
    "**Happy coding** 📊📈📉"
   ]
  }
 ],
 "metadata": {
  "kernelspec": {
   "display_name": "base",
   "language": "python",
   "name": "python3"
  },
  "language_info": {
   "codemirror_mode": {
    "name": "ipython",
    "version": 3
   },
   "file_extension": ".py",
   "mimetype": "text/x-python",
   "name": "python",
   "nbconvert_exporter": "python",
   "pygments_lexer": "ipython3",
   "version": "3.9.7"
  },
  "orig_nbformat": 4,
  "vscode": {
   "interpreter": {
    "hash": "468215beec16e96f99bc366ecab75b1d75db716e353e0417cbdb37be88f0d883"
   }
  }
 },
 "nbformat": 4,
 "nbformat_minor": 2
}
